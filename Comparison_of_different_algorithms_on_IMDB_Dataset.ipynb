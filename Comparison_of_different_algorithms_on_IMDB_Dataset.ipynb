{
  "nbformat": 4,
  "nbformat_minor": 0,
  "metadata": {
    "accelerator": "GPU",
    "colab": {
      "name": "Comparison of different algorithms on IMDB Dataset",
      "provenance": [],
      "collapsed_sections": [
        "WXkYLg5v8QW5"
      ]
    },
    "kernelspec": {
      "display_name": "Python 3",
      "name": "python3"
    },
    "language_info": {
      "name": "python"
    }
  },
  "cells": [
    {
      "cell_type": "code",
      "metadata": {
        "colab": {
          "base_uri": "https://localhost:8080/"
        },
        "id": "WDCBLtP36CTG",
        "outputId": "6ae99285-a668-47c1-a8d3-74d9e9c6e321"
      },
      "source": [
        "#Moutning google drive \n",
        "from google.colab import drive\n",
        "\n",
        "drive.mount('/content/drive')\n",
        "\n",
        "#To run in your drive, go to https://drive.google.com/drive/folders/1LRva9e7OzdmhzFJwYVBWt14lF6PnLHnD?usp=sharing and copy the entire folder in your own drive then run this block and sign in with the auth token for your account."
      ],
      "execution_count": 2,
      "outputs": [
        {
          "output_type": "stream",
          "name": "stdout",
          "text": [
            "Mounted at /content/drive\n"
          ]
        }
      ]
    },
    {
      "cell_type": "code",
      "metadata": {
        "id": "-6DzUl2t88Li"
      },
      "source": [
        "#Loading dataset and changing working directory to drive \n",
        "import pandas as pd\n",
        "import numpy as np\n",
        "import os\n",
        "path = '/content/drive/MyDrive/ML Project/dataset_imdb.csv'\n",
        "path2 = '/content/drive/MyDrive/ML Project/Positive and Negative Word List.xlsx'\n",
        "os.chdir('/content/drive/MyDrive/ML Project')\n",
        "dataset = pd.read_csv(path)\n",
        "PN_words = pd.read_excel(path2)"
      ],
      "execution_count": 3,
      "outputs": []
    },
    {
      "cell_type": "code",
      "metadata": {
        "id": "BwSXmOzBGyEe"
      },
      "source": [
        "#Importing all the required libraries \n",
        "import re\n",
        "import spacy\n",
        "from sklearn.feature_extraction.text import TfidfVectorizer\n",
        "from sklearn.model_selection import train_test_split\n",
        "from sklearn.svm import LinearSVC\n",
        "from sklearn.metrics import classification_report\n",
        "from sklearn.linear_model import LogisticRegression\n",
        "from sklearn import preprocessing\n",
        "from matplotlib import pyplot as plt\n",
        "import seaborn as sns\n",
        "from sklearn.metrics import confusion_matrix\n",
        "import joblib\n",
        "from sklearn.naive_bayes import MultinomialNB\n",
        "from sklearn.ensemble import RandomForestClassifier\n",
        "from sklearn.metrics import f1_score, recall_score, accuracy_score, precision_score, r2_score"
      ],
      "execution_count": 4,
      "outputs": []
    },
    {
      "cell_type": "code",
      "metadata": {
        "colab": {
          "base_uri": "https://localhost:8080/"
        },
        "id": "lphMwbczk-Nn",
        "outputId": "e4f2f63e-7663-4a4b-cfdc-194bdcca1bd8"
      },
      "source": [
        "dataset.info()"
      ],
      "execution_count": 6,
      "outputs": [
        {
          "output_type": "stream",
          "name": "stdout",
          "text": [
            "<class 'pandas.core.frame.DataFrame'>\n",
            "RangeIndex: 26963 entries, 0 to 26962\n",
            "Data columns (total 14 columns):\n",
            " #   Column                    Non-Null Count  Dtype  \n",
            "---  ------                    --------------  -----  \n",
            " 0   Unnamed: 0                26963 non-null  int64  \n",
            " 1   rating-other-user-rating  25268 non-null  float64\n",
            " 2   point-scale               25268 non-null  object \n",
            " 3   title                     26963 non-null  object \n",
            " 4   title href                26963 non-null  object \n",
            " 5   display-name-link         26963 non-null  object \n",
            " 6   display-name-link href    26963 non-null  object \n",
            " 7   review-date               26963 non-null  object \n",
            " 8   spoiler-warning           1585 non-null   object \n",
            " 9   actions                   26963 non-null  object \n",
            " 10  text                      26962 non-null  object \n",
            " 11  actions 2                 949 non-null    object \n",
            " 12  actions 3                 949 non-null    object \n",
            " 13  actions href              949 non-null    object \n",
            "dtypes: float64(1), int64(1), object(12)\n",
            "memory usage: 2.9+ MB\n"
          ]
        }
      ]
    },
    {
      "cell_type": "code",
      "metadata": {
        "colab": {
          "base_uri": "https://localhost:8080/",
          "height": 206
        },
        "id": "8NRmMI95pG8R",
        "outputId": "60174404-a0ea-4526-cdd6-ac41e6998d5f"
      },
      "source": [
        "#Selecting the required columns \n",
        "dataset_ratings = dataset[['rating-other-user-rating', 'text']].copy()\n",
        "dataset_ratings.head()"
      ],
      "execution_count": 7,
      "outputs": [
        {
          "output_type": "execute_result",
          "data": {
            "text/html": [
              "<div>\n",
              "<style scoped>\n",
              "    .dataframe tbody tr th:only-of-type {\n",
              "        vertical-align: middle;\n",
              "    }\n",
              "\n",
              "    .dataframe tbody tr th {\n",
              "        vertical-align: top;\n",
              "    }\n",
              "\n",
              "    .dataframe thead th {\n",
              "        text-align: right;\n",
              "    }\n",
              "</style>\n",
              "<table border=\"1\" class=\"dataframe\">\n",
              "  <thead>\n",
              "    <tr style=\"text-align: right;\">\n",
              "      <th></th>\n",
              "      <th>rating-other-user-rating</th>\n",
              "      <th>text</th>\n",
              "    </tr>\n",
              "  </thead>\n",
              "  <tbody>\n",
              "    <tr>\n",
              "      <th>0</th>\n",
              "      <td>8.0</td>\n",
              "      <td>The first 80-90% of \"Interstellar\" I absolutel...</td>\n",
              "    </tr>\n",
              "    <tr>\n",
              "      <th>1</th>\n",
              "      <td>6.0</td>\n",
              "      <td>As someone who likes the cast, loved the conce...</td>\n",
              "    </tr>\n",
              "    <tr>\n",
              "      <th>2</th>\n",
              "      <td>4.0</td>\n",
              "      <td>Another outer space film from Hollywood, this ...</td>\n",
              "    </tr>\n",
              "    <tr>\n",
              "      <th>3</th>\n",
              "      <td>7.0</td>\n",
              "      <td>In the near future, Earth is devastated by bli...</td>\n",
              "    </tr>\n",
              "    <tr>\n",
              "      <th>4</th>\n",
              "      <td>7.0</td>\n",
              "      <td>I'm treading on some little used ground. From ...</td>\n",
              "    </tr>\n",
              "  </tbody>\n",
              "</table>\n",
              "</div>"
            ],
            "text/plain": [
              "   rating-other-user-rating                                               text\n",
              "0                       8.0  The first 80-90% of \"Interstellar\" I absolutel...\n",
              "1                       6.0  As someone who likes the cast, loved the conce...\n",
              "2                       4.0  Another outer space film from Hollywood, this ...\n",
              "3                       7.0  In the near future, Earth is devastated by bli...\n",
              "4                       7.0  I'm treading on some little used ground. From ..."
            ]
          },
          "metadata": {},
          "execution_count": 7
        }
      ]
    },
    {
      "cell_type": "code",
      "metadata": {
        "colab": {
          "base_uri": "https://localhost:8080/"
        },
        "id": "W3G5lcEgph48",
        "outputId": "f46d2acf-0e59-435b-b014-8761b25cb3ca"
      },
      "source": [
        "dataset_ratings.info()"
      ],
      "execution_count": 8,
      "outputs": [
        {
          "output_type": "stream",
          "name": "stdout",
          "text": [
            "<class 'pandas.core.frame.DataFrame'>\n",
            "RangeIndex: 26963 entries, 0 to 26962\n",
            "Data columns (total 2 columns):\n",
            " #   Column                    Non-Null Count  Dtype  \n",
            "---  ------                    --------------  -----  \n",
            " 0   rating-other-user-rating  25268 non-null  float64\n",
            " 1   text                      26962 non-null  object \n",
            "dtypes: float64(1), object(1)\n",
            "memory usage: 421.4+ KB\n"
          ]
        }
      ]
    },
    {
      "cell_type": "code",
      "metadata": {
        "colab": {
          "base_uri": "https://localhost:8080/"
        },
        "id": "Ytkt4AkXpzST",
        "outputId": "7351d8c7-66cf-45ac-ebf2-f540f9bfca40"
      },
      "source": [
        "dataset_ratings = dataset_ratings.dropna()\n",
        "dataset_ratings2 = dataset_ratings.copy()\n",
        "dataset_ratings.info()"
      ],
      "execution_count": 9,
      "outputs": [
        {
          "output_type": "stream",
          "name": "stdout",
          "text": [
            "<class 'pandas.core.frame.DataFrame'>\n",
            "Int64Index: 25267 entries, 0 to 26962\n",
            "Data columns (total 2 columns):\n",
            " #   Column                    Non-Null Count  Dtype  \n",
            "---  ------                    --------------  -----  \n",
            " 0   rating-other-user-rating  25267 non-null  float64\n",
            " 1   text                      25267 non-null  object \n",
            "dtypes: float64(1), object(1)\n",
            "memory usage: 592.2+ KB\n"
          ]
        }
      ]
    },
    {
      "cell_type": "code",
      "metadata": {
        "colab": {
          "base_uri": "https://localhost:8080/"
        },
        "id": "m5WVNfGlTeL4",
        "outputId": "68405b48-ee2e-447e-aae2-94f436fa1c05"
      },
      "source": [
        "dataset_ratings['rating-other-user-rating'].value_counts()"
      ],
      "execution_count": 10,
      "outputs": [
        {
          "output_type": "execute_result",
          "data": {
            "text/plain": [
              "10.0    4521\n",
              "1.0     4297\n",
              "8.0     3485\n",
              "9.0     3326\n",
              "7.0     2817\n",
              "6.0     2031\n",
              "5.0     1586\n",
              "4.0     1089\n",
              "3.0     1058\n",
              "2.0     1057\n",
              "Name: rating-other-user-rating, dtype: int64"
            ]
          },
          "metadata": {},
          "execution_count": 10
        }
      ]
    },
    {
      "cell_type": "markdown",
      "metadata": {
        "id": "iduB1_v380ob"
      },
      "source": [
        "#**Text Preprocessing for dataset (with lematization)** \n"
      ]
    },
    {
      "cell_type": "code",
      "metadata": {
        "id": "VPEi_Z8h4OXZ"
      },
      "source": [
        "path3 = '/content/drive/MyDrive/ML Project/dataset_ratings.csv'\n",
        "dataset_ratings = pd.read_csv(path3)\n",
        "#Directly run the last cell under this section if you dont want to re-preprocess the data. This preprocessed data was converted to csv as rerunning the code took too much time due to limited computational power\n",
        "#Strictly don't import the data and re-preprocess it at the same time, it will lead to increase in features meaning you will have to retrain the models "
      ],
      "execution_count": 11,
      "outputs": []
    },
    {
      "cell_type": "code",
      "metadata": {
        "id": "__P18Dro-yIS"
      },
      "source": [
        "#Lemmatization run this cell to define the function \n",
        "spacy_tockenizer = spacy.load('en', disable=['parser', 'ner'])\n",
        "\n",
        "# function to lemmatize text\n",
        "def lemmatization(texts):\n",
        "    output = []\n",
        "    for i in texts:\n",
        "        s = [token.lemma_ for token in spacy_tockenizer(i)]\n",
        "        output.append(' '.join(s))\n",
        "    return output"
      ],
      "execution_count": 12,
      "outputs": []
    },
    {
      "cell_type": "code",
      "metadata": {
        "id": "Pv7ZUnMl8-zV"
      },
      "source": [
        "#Removing URLs\n",
        "dataset_ratings['cleaned-reviews'] = dataset_ratings['text'].apply(lambda x: re.sub(r'http\\S+', '', x)) "
      ],
      "execution_count": null,
      "outputs": []
    },
    {
      "cell_type": "code",
      "metadata": {
        "id": "ysTyP-i79wQ5"
      },
      "source": [
        "#Lowercasing Text\n",
        "dataset_ratings['cleaned-reviews'] = dataset_ratings['cleaned-reviews'].str.lower()"
      ],
      "execution_count": null,
      "outputs": []
    },
    {
      "cell_type": "code",
      "metadata": {
        "id": "G1f7KL7U96sJ"
      },
      "source": [
        "#Removing numbers \n",
        "dataset_ratings['cleaned-reviews'] = dataset_ratings['cleaned-reviews'].apply(lambda x: re.sub(r'\\d+', '', x))"
      ],
      "execution_count": null,
      "outputs": []
    },
    {
      "cell_type": "code",
      "metadata": {
        "id": "n_ujuFMK-Moi"
      },
      "source": [
        "#Removing whitespace \n",
        "dataset_ratings['cleaned-reviews'] = dataset_ratings['cleaned-reviews'].apply(lambda x:' '.join(x.split()))"
      ],
      "execution_count": null,
      "outputs": []
    },
    {
      "cell_type": "code",
      "metadata": {
        "id": "FAylgWXtVteZ"
      },
      "source": [
        "#dataset_ratings['cleaned-reviews'] = lemmatization(dataset_ratings['cleaned-reviews'])"
      ],
      "execution_count": null,
      "outputs": []
    },
    {
      "cell_type": "code",
      "metadata": {
        "id": "tseNV-D_HPk7"
      },
      "source": [
        "#Removing Puncutations except ? and !\n",
        "punctuation = '\"#$%&()*+-/:;<=>@[\\\\]^_`{|}~'\n",
        "\n",
        "dataset_ratings['cleaned-reviews'] = dataset_ratings['cleaned-reviews'].apply(lambda x: ''.join(ch for ch in x if ch not in set(punctuation)))"
      ],
      "execution_count": null,
      "outputs": []
    },
    {
      "cell_type": "code",
      "metadata": {
        "colab": {
          "base_uri": "https://localhost:8080/",
          "height": 206
        },
        "id": "WRqWYO8riFPC",
        "outputId": "e47dcb0b-3230-42d7-bec6-5c22c3835b19"
      },
      "source": [
        "#Total number of words in a review \n",
        "dataset_ratings['total number of words'] = dataset_ratings['cleaned-reviews'].apply(lambda x: len(x.split()))\n",
        "dataset_ratings.head()"
      ],
      "execution_count": null,
      "outputs": [
        {
          "output_type": "execute_result",
          "data": {
            "text/html": [
              "<div>\n",
              "<style scoped>\n",
              "    .dataframe tbody tr th:only-of-type {\n",
              "        vertical-align: middle;\n",
              "    }\n",
              "\n",
              "    .dataframe tbody tr th {\n",
              "        vertical-align: top;\n",
              "    }\n",
              "\n",
              "    .dataframe thead th {\n",
              "        text-align: right;\n",
              "    }\n",
              "</style>\n",
              "<table border=\"1\" class=\"dataframe\">\n",
              "  <thead>\n",
              "    <tr style=\"text-align: right;\">\n",
              "      <th></th>\n",
              "      <th>Unnamed: 0</th>\n",
              "      <th>rating-other-user-rating</th>\n",
              "      <th>text</th>\n",
              "      <th>cleaned-reviews</th>\n",
              "      <th>total number of words</th>\n",
              "      <th>total number of postive words</th>\n",
              "      <th>total number of negative words</th>\n",
              "    </tr>\n",
              "  </thead>\n",
              "  <tbody>\n",
              "    <tr>\n",
              "      <th>0</th>\n",
              "      <td>0</td>\n",
              "      <td>8.0</td>\n",
              "      <td>The first 80-90% of \"Interstellar\" I absolutel...</td>\n",
              "      <td>the first  of interstellar i absolutely loved ...</td>\n",
              "      <td>169</td>\n",
              "      <td>63</td>\n",
              "      <td>22</td>\n",
              "    </tr>\n",
              "    <tr>\n",
              "      <th>1</th>\n",
              "      <td>1</td>\n",
              "      <td>6.0</td>\n",
              "      <td>As someone who likes the cast, loved the conce...</td>\n",
              "      <td>as someone who likes the cast, loved the conce...</td>\n",
              "      <td>375</td>\n",
              "      <td>115</td>\n",
              "      <td>31</td>\n",
              "    </tr>\n",
              "    <tr>\n",
              "      <th>2</th>\n",
              "      <td>2</td>\n",
              "      <td>4.0</td>\n",
              "      <td>Another outer space film from Hollywood, this ...</td>\n",
              "      <td>another outer space film from hollywood, this ...</td>\n",
              "      <td>217</td>\n",
              "      <td>67</td>\n",
              "      <td>28</td>\n",
              "    </tr>\n",
              "    <tr>\n",
              "      <th>3</th>\n",
              "      <td>3</td>\n",
              "      <td>7.0</td>\n",
              "      <td>In the near future, Earth is devastated by bli...</td>\n",
              "      <td>in the near future, earth is devastated by bli...</td>\n",
              "      <td>315</td>\n",
              "      <td>104</td>\n",
              "      <td>38</td>\n",
              "    </tr>\n",
              "    <tr>\n",
              "      <th>4</th>\n",
              "      <td>4</td>\n",
              "      <td>7.0</td>\n",
              "      <td>I'm treading on some little used ground. From ...</td>\n",
              "      <td>i'm treading on some little used ground. from ...</td>\n",
              "      <td>224</td>\n",
              "      <td>62</td>\n",
              "      <td>32</td>\n",
              "    </tr>\n",
              "  </tbody>\n",
              "</table>\n",
              "</div>"
            ],
            "text/plain": [
              "   Unnamed: 0  ...  total number of negative words\n",
              "0           0  ...                              22\n",
              "1           1  ...                              31\n",
              "2           2  ...                              28\n",
              "3           3  ...                              38\n",
              "4           4  ...                              32\n",
              "\n",
              "[5 rows x 7 columns]"
            ]
          },
          "metadata": {},
          "execution_count": 17
        }
      ]
    },
    {
      "cell_type": "code",
      "metadata": {
        "id": "M2HABTEGlXO_"
      },
      "source": [
        "#Function to list positive words \n",
        "def pwords(text):\n",
        "  pno = 0\n",
        "  PW = PN_words['Positive Sense Word List'].tolist()\n",
        "  x = text.split()\n",
        "  for i in x:\n",
        "    if (i in PW):\n",
        "      pno = pno + 1\n",
        "  return pno\n",
        "\n",
        "#Function to list negative words\n",
        "def nwords(text):\n",
        "  nno = 0\n",
        "  NW = PN_words['Negative Sense Word List'].tolist()\n",
        "  x = text.split()\n",
        "  for i in x:\n",
        "    if (i in NW):\n",
        "      nno = nno + 1\n",
        "  return nno"
      ],
      "execution_count": null,
      "outputs": []
    },
    {
      "cell_type": "code",
      "metadata": {
        "id": "FnQgbvJopj11"
      },
      "source": [
        "#Total number of positive and negative words in a review \n",
        "dataset_ratings['total number of postive words'] = dataset_ratings['cleaned-reviews'].apply(lambda x: pwords(x))\n",
        "dataset_ratings['total number of negative words'] = dataset_ratings['cleaned-reviews'].apply(lambda x: nwords(x))"
      ],
      "execution_count": null,
      "outputs": []
    },
    {
      "cell_type": "code",
      "metadata": {
        "id": "XxuJy9VMxtw5",
        "colab": {
          "base_uri": "https://localhost:8080/",
          "height": 206
        },
        "outputId": "f9ef07ca-1dcd-4426-b19b-c6af61f0cfe2"
      },
      "source": [
        "#dataset_ratings.to_csv('dataset_ratings.csv')\n",
        "dataset_ratings3 = dataset_ratings.copy()\n",
        "dataset_ratings.head()"
      ],
      "execution_count": 13,
      "outputs": [
        {
          "output_type": "execute_result",
          "data": {
            "text/html": [
              "<div>\n",
              "<style scoped>\n",
              "    .dataframe tbody tr th:only-of-type {\n",
              "        vertical-align: middle;\n",
              "    }\n",
              "\n",
              "    .dataframe tbody tr th {\n",
              "        vertical-align: top;\n",
              "    }\n",
              "\n",
              "    .dataframe thead th {\n",
              "        text-align: right;\n",
              "    }\n",
              "</style>\n",
              "<table border=\"1\" class=\"dataframe\">\n",
              "  <thead>\n",
              "    <tr style=\"text-align: right;\">\n",
              "      <th></th>\n",
              "      <th>Unnamed: 0</th>\n",
              "      <th>rating-other-user-rating</th>\n",
              "      <th>text</th>\n",
              "      <th>cleaned-reviews</th>\n",
              "      <th>total number of words</th>\n",
              "      <th>total number of postive words</th>\n",
              "      <th>total number of negative words</th>\n",
              "    </tr>\n",
              "  </thead>\n",
              "  <tbody>\n",
              "    <tr>\n",
              "      <th>0</th>\n",
              "      <td>0</td>\n",
              "      <td>8.0</td>\n",
              "      <td>The first 80-90% of \"Interstellar\" I absolutel...</td>\n",
              "      <td>the first  of  interstellar  i absolutely love...</td>\n",
              "      <td>191</td>\n",
              "      <td>63</td>\n",
              "      <td>22</td>\n",
              "    </tr>\n",
              "    <tr>\n",
              "      <th>1</th>\n",
              "      <td>1</td>\n",
              "      <td>6.0</td>\n",
              "      <td>As someone who likes the cast, loved the conce...</td>\n",
              "      <td>as someone who like the cast , love the concep...</td>\n",
              "      <td>443</td>\n",
              "      <td>115</td>\n",
              "      <td>31</td>\n",
              "    </tr>\n",
              "    <tr>\n",
              "      <th>2</th>\n",
              "      <td>2</td>\n",
              "      <td>4.0</td>\n",
              "      <td>Another outer space film from Hollywood, this ...</td>\n",
              "      <td>another outer space film from hollywood , this...</td>\n",
              "      <td>236</td>\n",
              "      <td>67</td>\n",
              "      <td>28</td>\n",
              "    </tr>\n",
              "    <tr>\n",
              "      <th>3</th>\n",
              "      <td>3</td>\n",
              "      <td>7.0</td>\n",
              "      <td>In the near future, Earth is devastated by bli...</td>\n",
              "      <td>in the near future , earth be devastate by bli...</td>\n",
              "      <td>355</td>\n",
              "      <td>104</td>\n",
              "      <td>38</td>\n",
              "    </tr>\n",
              "    <tr>\n",
              "      <th>4</th>\n",
              "      <td>4</td>\n",
              "      <td>7.0</td>\n",
              "      <td>I'm treading on some little used ground. From ...</td>\n",
              "      <td>PRON be tread on some little use ground . from...</td>\n",
              "      <td>256</td>\n",
              "      <td>62</td>\n",
              "      <td>32</td>\n",
              "    </tr>\n",
              "  </tbody>\n",
              "</table>\n",
              "</div>"
            ],
            "text/plain": [
              "   Unnamed: 0  ...  total number of negative words\n",
              "0           0  ...                              22\n",
              "1           1  ...                              31\n",
              "2           2  ...                              28\n",
              "3           3  ...                              38\n",
              "4           4  ...                              32\n",
              "\n",
              "[5 rows x 7 columns]"
            ]
          },
          "metadata": {},
          "execution_count": 13
        }
      ]
    },
    {
      "cell_type": "markdown",
      "metadata": {
        "id": "WXkYLg5v8QW5"
      },
      "source": [
        "#**Model comparison for lematized text**"
      ]
    },
    {
      "cell_type": "code",
      "metadata": {
        "id": "MCsaZcqjWVQ0"
      },
      "source": [
        "#Initiating the vectorizer \n",
        "tfidf = TfidfVectorizer(ngram_range = (1,4), analyzer = 'word', stop_words='english', max_features = 6000000)"
      ],
      "execution_count": null,
      "outputs": []
    },
    {
      "cell_type": "code",
      "metadata": {
        "id": "MmkSyiR6Wu8e"
      },
      "source": [
        "x = tfidf.fit_transform(dataset_ratings['cleaned-reviews'])\n",
        "y = dataset_ratings['rating-other-user-rating']"
      ],
      "execution_count": null,
      "outputs": []
    },
    {
      "cell_type": "code",
      "metadata": {
        "colab": {
          "base_uri": "https://localhost:8080/"
        },
        "id": "fxgqgyxwcUNa",
        "outputId": "9d4f32da-350f-4801-f435-0747057774c5"
      },
      "source": [
        "x.shape, y.shape"
      ],
      "execution_count": null,
      "outputs": [
        {
          "output_type": "execute_result",
          "data": {
            "text/plain": [
              "((25267, 4585928), (25267,))"
            ]
          },
          "metadata": {},
          "execution_count": 16
        }
      ]
    },
    {
      "cell_type": "code",
      "metadata": {
        "id": "2iHzCU_Ec24q"
      },
      "source": [
        "#Train test split\n",
        "x_train, x_test, y_train, y_test = train_test_split(x,y, test_size = 0.2, random_state = 0)"
      ],
      "execution_count": null,
      "outputs": []
    },
    {
      "cell_type": "code",
      "metadata": {
        "id": "yI0tL8D7eH5W"
      },
      "source": [
        "#uncomment if you want to re-train the model, the trained model can be directly loaded from the below code\n",
        "#clf = LinearSVC(C = 10, class_weight= 'balanced', dual=True, verbose = 2)\n",
        "#clf.fit(x_train, y_train)"
      ],
      "execution_count": null,
      "outputs": []
    },
    {
      "cell_type": "code",
      "metadata": {
        "id": "Qnxe8fuQ5nxI"
      },
      "source": [
        "\n",
        "#joblib.dump(clf, 'linearsvcmodel.h5')"
      ],
      "execution_count": null,
      "outputs": []
    },
    {
      "cell_type": "code",
      "metadata": {
        "id": "u2WdshGv-UD-"
      },
      "source": [
        "\n",
        "loaded_clf = joblib.load('linearsvcmodel.h5')"
      ],
      "execution_count": null,
      "outputs": []
    },
    {
      "cell_type": "code",
      "metadata": {
        "colab": {
          "base_uri": "https://localhost:8080/"
        },
        "id": "FaAFIE81g5WX",
        "outputId": "41a27bcc-3535-4140-85a6-4507300ce99a"
      },
      "source": [
        "y_pred = loaded_clf.predict(x_test)\n",
        "print(classification_report(y_test, y_pred))"
      ],
      "execution_count": null,
      "outputs": [
        {
          "output_type": "stream",
          "name": "stdout",
          "text": [
            "              precision    recall  f1-score   support\n",
            "\n",
            "         1.0       0.54      0.91      0.68       859\n",
            "         2.0       0.67      0.11      0.18       226\n",
            "         3.0       0.59      0.10      0.17       227\n",
            "         4.0       0.69      0.13      0.23       230\n",
            "         5.0       0.44      0.17      0.25       327\n",
            "         6.0       0.31      0.25      0.28       360\n",
            "         7.0       0.36      0.33      0.34       587\n",
            "         8.0       0.37      0.33      0.35       713\n",
            "         9.0       0.40      0.25      0.31       627\n",
            "        10.0       0.44      0.73      0.55       898\n",
            "\n",
            "    accuracy                           0.45      5054\n",
            "   macro avg       0.48      0.33      0.33      5054\n",
            "weighted avg       0.45      0.45      0.40      5054\n",
            "\n"
          ]
        }
      ]
    },
    {
      "cell_type": "code",
      "metadata": {
        "colab": {
          "base_uri": "https://localhost:8080/",
          "height": 606
        },
        "id": "iKWSn7jY9p5a",
        "outputId": "9e13f154-91a1-4289-b6f2-13fc092304bb"
      },
      "source": [
        "conf_mat = confusion_matrix(y_test, y_pred)\n",
        "fig, ax = plt.subplots(figsize=(10,10))\n",
        "sns.heatmap(conf_mat, annot=True, fmt='d')\n",
        "plt.ylabel('Actual')  \n",
        "plt.xlabel('Predicted')\n",
        "plt.show()"
      ],
      "execution_count": null,
      "outputs": [
        {
          "output_type": "display_data",
          "data": {
            "image/png": "[encoded data removed]",
            "text/plain": [
              "<Figure size 720x720 with 2 Axes>"
            ]
          },
          "metadata": {
            "needs_background": "light"
          }
        }
      ]
    },
    {
      "cell_type": "code",
      "metadata": {
        "id": "ix-7bCO6DJXv"
      },
      "source": [
        "#uncomment if you want to re-train the model, the trained model can be directly loaded from the below code\n",
        "#clf2 = LogisticRegression(solver = 'saga', C = 20, class_weight= 'balanced', max_iter= 2000)\n",
        "#clf2.fit(x_train, y_train)"
      ],
      "execution_count": null,
      "outputs": []
    },
    {
      "cell_type": "code",
      "metadata": {
        "id": "1ah1RFRM_Jcn"
      },
      "source": [
        "#joblib.dump(clf2, 'logisticregressionmodel.h5')\n"
      ],
      "execution_count": null,
      "outputs": []
    },
    {
      "cell_type": "code",
      "metadata": {
        "id": "RteKRl3M_PWo"
      },
      "source": [
        "loaded_clf2 = joblib.load('logisticregressionmodel.h5')"
      ],
      "execution_count": null,
      "outputs": []
    },
    {
      "cell_type": "code",
      "metadata": {
        "colab": {
          "base_uri": "https://localhost:8080/"
        },
        "id": "bGrLDI7gSkUc",
        "outputId": "61084bc8-c498-4b1c-ee83-29ba9881d8e3"
      },
      "source": [
        "y_pred2 = loaded_clf2.predict(x_test)\n",
        "print(classification_report(y_test, y_pred2))"
      ],
      "execution_count": null,
      "outputs": [
        {
          "output_type": "stream",
          "name": "stdout",
          "text": [
            "              precision    recall  f1-score   support\n",
            "\n",
            "         1.0       0.56      0.90      0.69       859\n",
            "         2.0       0.74      0.10      0.18       226\n",
            "         3.0       0.59      0.10      0.17       227\n",
            "         4.0       0.73      0.14      0.24       230\n",
            "         5.0       0.42      0.17      0.24       327\n",
            "         6.0       0.30      0.29      0.30       360\n",
            "         7.0       0.36      0.35      0.35       587\n",
            "         8.0       0.36      0.36      0.36       713\n",
            "         9.0       0.40      0.26      0.32       627\n",
            "        10.0       0.46      0.71      0.55       898\n",
            "\n",
            "    accuracy                           0.45      5054\n",
            "   macro avg       0.49      0.34      0.34      5054\n",
            "weighted avg       0.46      0.45      0.41      5054\n",
            "\n"
          ]
        }
      ]
    },
    {
      "cell_type": "code",
      "metadata": {
        "colab": {
          "base_uri": "https://localhost:8080/",
          "height": 606
        },
        "id": "cwXZ5B2H6E1n",
        "outputId": "3be399b1-eb55-4d45-e764-d0da079b8f46"
      },
      "source": [
        "conf_mat = confusion_matrix(y_test, y_pred2)\n",
        "fig, ax = plt.subplots(figsize=(10,10))\n",
        "sns.heatmap(conf_mat, annot=True, fmt='d')\n",
        "plt.ylabel('Actual')\n",
        "plt.xlabel('Predicted')\n",
        "plt.show()"
      ],
      "execution_count": null,
      "outputs": [
        {
          "output_type": "display_data",
          "data": {
            "image/png": "[encoded data removed]",
            "text/plain": [
              "<Figure size 720x720 with 2 Axes>"
            ]
          },
          "metadata": {
            "needs_background": "light"
          }
        }
      ]
    },
    {
      "cell_type": "code",
      "metadata": {
        "colab": {
          "base_uri": "https://localhost:8080/"
        },
        "id": "RXaQxTLAeuoH",
        "outputId": "eaa6ca7b-c123-4bed-96ec-6b5cf2739255"
      },
      "source": [
        "clf3 = (MultinomialNB(alpha=0.01))\n",
        "clf3.fit((x_train),(y_train))"
      ],
      "execution_count": null,
      "outputs": [
        {
          "output_type": "execute_result",
          "data": {
            "text/plain": [
              "MultinomialNB(alpha=0.01)"
            ]
          },
          "metadata": {},
          "execution_count": 25
        }
      ]
    },
    {
      "cell_type": "code",
      "metadata": {
        "colab": {
          "base_uri": "https://localhost:8080/"
        },
        "id": "yVoRXH2ae2JW",
        "outputId": "3d4de67a-d13a-4c14-86c3-f57cb995d440"
      },
      "source": [
        "y_pred3 = clf3.predict(x_test)\n",
        "print(classification_report(y_test, y_pred3))"
      ],
      "execution_count": null,
      "outputs": [
        {
          "output_type": "stream",
          "name": "stdout",
          "text": [
            "              precision    recall  f1-score   support\n",
            "\n",
            "         1.0       0.66      0.77      0.71       859\n",
            "         2.0       0.25      0.22      0.23       226\n",
            "         3.0       0.21      0.22      0.22       227\n",
            "         4.0       0.17      0.27      0.21       230\n",
            "         5.0       0.17      0.31      0.22       327\n",
            "         6.0       0.23      0.37      0.28       360\n",
            "         7.0       0.36      0.25      0.30       587\n",
            "         8.0       0.42      0.20      0.27       713\n",
            "         9.0       0.38      0.36      0.37       627\n",
            "        10.0       0.51      0.43      0.47       898\n",
            "\n",
            "    accuracy                           0.39      5054\n",
            "   macro avg       0.34      0.34      0.33      5054\n",
            "weighted avg       0.41      0.39      0.39      5054\n",
            "\n"
          ]
        }
      ]
    },
    {
      "cell_type": "code",
      "metadata": {
        "id": "3INPGHVrxBEW"
      },
      "source": [
        "\n",
        "#uncomment if you want to re-train the model, the trained model can be directly loaded from the below code\n",
        "#clf5 = RandomForestClassifier(n_estimators = 10, criterion = 'entropy', random_state = 42)\n",
        "#clf5.fit(x_train, y_train)"
      ],
      "execution_count": null,
      "outputs": []
    },
    {
      "cell_type": "code",
      "metadata": {
        "id": "Pug-g9yAzpcD"
      },
      "source": [
        "#joblib.dump(clf5, 'randomforest.h5')"
      ],
      "execution_count": null,
      "outputs": []
    },
    {
      "cell_type": "code",
      "metadata": {
        "id": "SY-__I37zqsy"
      },
      "source": [
        "loaded_clf5 = joblib.load('randomforest.h5')"
      ],
      "execution_count": null,
      "outputs": []
    },
    {
      "cell_type": "code",
      "metadata": {
        "colab": {
          "base_uri": "https://localhost:8080/"
        },
        "id": "-AmnBsNJyyT1",
        "outputId": "56d62919-4e0c-496d-e8d6-9b9555def120"
      },
      "source": [
        "y_pred5 = loaded_clf5.predict(x_test)\n",
        "print(classification_report(y_test, y_pred5))"
      ],
      "execution_count": null,
      "outputs": [
        {
          "output_type": "stream",
          "name": "stdout",
          "text": [
            "              precision    recall  f1-score   support\n",
            "\n",
            "         1.0       0.39      0.81      0.53       859\n",
            "         2.0       0.40      0.10      0.16       226\n",
            "         3.0       0.40      0.09      0.15       227\n",
            "         4.0       0.48      0.13      0.21       230\n",
            "         5.0       0.39      0.13      0.20       327\n",
            "         6.0       0.29      0.14      0.19       360\n",
            "         7.0       0.35      0.23      0.28       587\n",
            "         8.0       0.31      0.25      0.27       713\n",
            "         9.0       0.32      0.25      0.28       627\n",
            "        10.0       0.32      0.49      0.39       898\n",
            "\n",
            "    accuracy                           0.35      5054\n",
            "   macro avg       0.37      0.26      0.27      5054\n",
            "weighted avg       0.35      0.35      0.31      5054\n",
            "\n"
          ]
        }
      ]
    },
    {
      "cell_type": "code",
      "metadata": {
        "colab": {
          "base_uri": "https://localhost:8080/"
        },
        "id": "ukZoUgTjVNHr",
        "outputId": "4292a92d-e18a-4ced-ca95-ec8732ec9169"
      },
      "source": [
        "#Predicting on sample text \n",
        "#Orignal rating 5\n",
        "xtext =\"I'm not going to give a long winded review though the movie was long. 'Eternal' was the runtime. There were parts that were good and parts that weren't. One of the biggest issues is that a movie of this nature presents more questions than it answers. The very existence of eternal beings existing on planet Earth, sent there by their creator in order to protect human life from Deviants, begs a lot of questions. And the more they strayed from their prime directive, the more questions they presented. The eternals were human in every aspect with the exception of their powers and their lifespan. The fact that such humanlike and very fallible beings (as in not entirely obedient) were sent to protect humans is just a start of the questions.\"\n",
        "def pptext(text):\n",
        "  text = re.sub(r'http\\S+', '', text)\n",
        "  text = text.lower()\n",
        "  text = re.sub(r'\\d+', '', text)\n",
        "  punctuation = '\"#$%&()*+-/:;<=>@[\\\\]^_`{|}~\\''\n",
        "  text = ''.join(ch for ch in text if ch not in set(punctuation))\n",
        "  text = lemmatization(text)\n",
        "  text = \"\".join(text) \n",
        "  return text\n",
        "\n",
        "xp = pptext(xtext)\n",
        "print(xp)\n",
        "star_rating = tfidf.transform([xp])\n",
        "print(loaded_clf.predict(star_rating)[0])\n",
        "print(loaded_clf2.predict(star_rating)[0])\n",
        "print(clf3.predict(star_rating)[0])\n",
        "print(loaded_clf5.predict(star_rating)[0])\n"
      ],
      "execution_count": null,
      "outputs": [
        {
          "output_type": "stream",
          "name": "stdout",
          "text": [
            "im not going to give a long winded review though the movie was long. eternal was the runtime. there were parts that were good and parts that werent. one of the biggest issues is that a movie of this nature presents more questions than it answers. the very existence of eternal beings existing on planet earth, sent there by their creator in order to protect human life from deviants, begs a lot of questions. and the more they strayed from their prime directive, the more questions they presented. the eternals were human in every aspect with the exception of their powers and their lifespan. the fact that such humanlike and very fallible beings as in not entirely obedient were sent to protect humans is just a start of the questions.\n",
            "5.0\n",
            "5.0\n",
            "5.0\n",
            "8.0\n"
          ]
        }
      ]
    },
    {
      "cell_type": "code",
      "metadata": {
        "id": "V4jhQW4Y5Ja2"
      },
      "source": [
        "accuracies = []\n",
        "f1_scores = []\n",
        "recalls = []\n",
        "precisions = []\n",
        "r2_scores = []\n",
        "\n",
        "\n",
        "model_names = ['Linear SVC', 'Logistic Regression' , 'Navie Bayes', 'Random forest Classifier']\n",
        "y_preds = [y_pred, y_pred2, y_pred3, y_pred5 ]\n",
        "\n",
        "for idx, (names, pred) in enumerate(zip(model_names, y_preds)):\n",
        "  accuracies.append(accuracy_score(y_test, pred))\n",
        "  f1_scores.append(f1_score(y_test, pred, average='weighted'))\n",
        "  recalls.append(recall_score(y_test, pred, average='weighted'))\n",
        "  precisions.append(precision_score(y_test, pred, average='weighted'))\n",
        "  r2_scores.append(r2_score(y_test, pred))"
      ],
      "execution_count": null,
      "outputs": []
    },
    {
      "cell_type": "code",
      "metadata": {
        "colab": {
          "base_uri": "https://localhost:8080/",
          "height": 175
        },
        "id": "lfW8cz0l6hZQ",
        "outputId": "2bced99b-82d6-4fc9-e9d3-3527c23113f9"
      },
      "source": [
        "comparing_df = pd.DataFrame.from_dict({\n",
        "    'name': model_names,\n",
        "    'accuracy': accuracies,\n",
        "    'f1 score': f1_scores,\n",
        "    'recall': recalls,\n",
        "    'precision': precisions,\n",
        "    'r squared': r2_scores\n",
        "})\n",
        "\n",
        "comparing_df"
      ],
      "execution_count": null,
      "outputs": [
        {
          "output_type": "execute_result",
          "data": {
            "text/html": [
              "<div>\n",
              "<style scoped>\n",
              "    .dataframe tbody tr th:only-of-type {\n",
              "        vertical-align: middle;\n",
              "    }\n",
              "\n",
              "    .dataframe tbody tr th {\n",
              "        vertical-align: top;\n",
              "    }\n",
              "\n",
              "    .dataframe thead th {\n",
              "        text-align: right;\n",
              "    }\n",
              "</style>\n",
              "<table border=\"1\" class=\"dataframe\">\n",
              "  <thead>\n",
              "    <tr style=\"text-align: right;\">\n",
              "      <th></th>\n",
              "      <th>name</th>\n",
              "      <th>accuracy</th>\n",
              "      <th>f1 score</th>\n",
              "      <th>recall</th>\n",
              "      <th>precision</th>\n",
              "      <th>r squared</th>\n",
              "    </tr>\n",
              "  </thead>\n",
              "  <tbody>\n",
              "    <tr>\n",
              "      <th>0</th>\n",
              "      <td>Linear SVC</td>\n",
              "      <td>0.445192</td>\n",
              "      <td>0.401549</td>\n",
              "      <td>0.445192</td>\n",
              "      <td>0.450969</td>\n",
              "      <td>0.393268</td>\n",
              "    </tr>\n",
              "    <tr>\n",
              "      <th>1</th>\n",
              "      <td>Logistic Regression</td>\n",
              "      <td>0.449347</td>\n",
              "      <td>0.410352</td>\n",
              "      <td>0.449347</td>\n",
              "      <td>0.460556</td>\n",
              "      <td>0.411470</td>\n",
              "    </tr>\n",
              "    <tr>\n",
              "      <th>2</th>\n",
              "      <td>Navie Bayes</td>\n",
              "      <td>0.386822</td>\n",
              "      <td>0.385951</td>\n",
              "      <td>0.386822</td>\n",
              "      <td>0.406600</td>\n",
              "      <td>0.328798</td>\n",
              "    </tr>\n",
              "    <tr>\n",
              "      <th>3</th>\n",
              "      <td>Random forest Classifier</td>\n",
              "      <td>0.351207</td>\n",
              "      <td>0.314141</td>\n",
              "      <td>0.351207</td>\n",
              "      <td>0.351194</td>\n",
              "      <td>-0.301823</td>\n",
              "    </tr>\n",
              "  </tbody>\n",
              "</table>\n",
              "</div>"
            ],
            "text/plain": [
              "                       name  accuracy  f1 score    recall  precision  r squared\n",
              "0                Linear SVC  0.445192  0.401549  0.445192   0.450969   0.393268\n",
              "1       Logistic Regression  0.449347  0.410352  0.449347   0.460556   0.411470\n",
              "2               Navie Bayes  0.386822  0.385951  0.386822   0.406600   0.328798\n",
              "3  Random forest Classifier  0.351207  0.314141  0.351207   0.351194  -0.301823"
            ]
          },
          "metadata": {},
          "execution_count": 31
        }
      ]
    },
    {
      "cell_type": "code",
      "metadata": {
        "colab": {
          "base_uri": "https://localhost:8080/",
          "height": 421
        },
        "id": "pXUT5jhl7EWA",
        "outputId": "2ca9faeb-2f46-4956-cf13-b50e2185e03b"
      },
      "source": [
        "plt.figure(figsize=(10, 6))\n",
        "\n",
        "sns.barplot(\n",
        "    x='name',\n",
        "    y='accuracy',\n",
        "    data=comparing_df,\n",
        "    #order=comparing_df.sort_values('accuracy').name\n",
        ").set_title('Accuracy Comparison')\n",
        "plt.plot()"
      ],
      "execution_count": null,
      "outputs": [
        {
          "output_type": "execute_result",
          "data": {
            "text/plain": [
              "[]"
            ]
          },
          "metadata": {},
          "execution_count": 32
        },
        {
          "output_type": "display_data",
          "data": {
            "image/png": "[encoded data removed]",
            "text/plain": [
              "<Figure size 720x432 with 1 Axes>"
            ]
          },
          "metadata": {
            "needs_background": "light"
          }
        }
      ]
    },
    {
      "cell_type": "code",
      "metadata": {
        "colab": {
          "base_uri": "https://localhost:8080/",
          "height": 421
        },
        "id": "vo6VoUfx9vIn",
        "outputId": "d702511b-3be3-44dc-a772-6555168fcefc"
      },
      "source": [
        "plt.figure(figsize=(10, 6))\n",
        "\n",
        "sns.barplot(\n",
        "    x='name',\n",
        "    y='f1 score',\n",
        "    data=comparing_df,\n",
        "    #order=comparing_df.sort_values('f1_score').name\n",
        ").set_title('F1 score Comparison')\n",
        "plt.plot()"
      ],
      "execution_count": null,
      "outputs": [
        {
          "output_type": "execute_result",
          "data": {
            "text/plain": [
              "[]"
            ]
          },
          "metadata": {},
          "execution_count": 33
        },
        {
          "output_type": "display_data",
          "data": {
            "image/png": "[encoded data removed]",
            "text/plain": [
              "<Figure size 720x432 with 1 Axes>"
            ]
          },
          "metadata": {
            "needs_background": "light"
          }
        }
      ]
    },
    {
      "cell_type": "code",
      "metadata": {
        "colab": {
          "base_uri": "https://localhost:8080/",
          "height": 421
        },
        "id": "DIjHDpsL-Ueg",
        "outputId": "e7dc49ba-9fde-49b1-9ec6-72222c35f376"
      },
      "source": [
        "plt.figure(figsize=(10, 6))\n",
        "\n",
        "sns.barplot(\n",
        "    x='name',\n",
        "    y='precision',\n",
        "    data=comparing_df,\n",
        "    #order=comparing_df.sort_values('precision').name\n",
        ").set_title(\"Precision Comparison\")\n",
        "\n",
        "plt.plot()"
      ],
      "execution_count": null,
      "outputs": [
        {
          "output_type": "execute_result",
          "data": {
            "text/plain": [
              "[]"
            ]
          },
          "metadata": {},
          "execution_count": 34
        },
        {
          "output_type": "display_data",
          "data": {
            "image/png": "[encoded data removed]",
            "text/plain": [
              "<Figure size 720x432 with 1 Axes>"
            ]
          },
          "metadata": {
            "needs_background": "light"
          }
        }
      ]
    },
    {
      "cell_type": "code",
      "metadata": {
        "colab": {
          "base_uri": "https://localhost:8080/",
          "height": 404
        },
        "id": "CBEFjttL-riS",
        "outputId": "3a1eeb2a-afa9-44f6-9585-b460860bc84f"
      },
      "source": [
        "plt.figure(figsize=(10, 6))\n",
        "\n",
        "sns.barplot(\n",
        "    x='name',\n",
        "    y='recall',\n",
        "    data=comparing_df,\n",
        "    #order=comparing_df.sort_values('recall').name\n",
        ").set_title('Recall Comparison')\n",
        "plt.show()"
      ],
      "execution_count": null,
      "outputs": [
        {
          "output_type": "display_data",
          "data": {
            "image/png": "[encoded data removed]",
            "text/plain": [
              "<Figure size 720x432 with 1 Axes>"
            ]
          },
          "metadata": {
            "needs_background": "light"
          }
        }
      ]
    },
    {
      "cell_type": "code",
      "metadata": {
        "colab": {
          "base_uri": "https://localhost:8080/",
          "height": 421
        },
        "id": "gQ_1tEAL-wlw",
        "outputId": "ce0d0391-a5c4-436d-95f5-1397e142ab13"
      },
      "source": [
        "plt.figure(figsize=(10, 6))\n",
        "\n",
        "sns.barplot(\n",
        "    x='name',\n",
        "    y='r squared',\n",
        "    data=comparing_df,\n",
        "    #order=comparing_df.sort_values('accuracy').name\n",
        ").set_title('R squared Comparison')\n",
        "plt.plot()"
      ],
      "execution_count": null,
      "outputs": [
        {
          "output_type": "execute_result",
          "data": {
            "text/plain": [
              "[]"
            ]
          },
          "metadata": {},
          "execution_count": 36
        },
        {
          "output_type": "display_data",
          "data": {
            "image/png": "[encoded data removed]",
            "text/plain": [
              "<Figure size 720x432 with 1 Axes>"
            ]
          },
          "metadata": {
            "needs_background": "light"
          }
        }
      ]
    },
    {
      "cell_type": "markdown",
      "metadata": {
        "id": "TzxJVGoQIkZa"
      },
      "source": [
        "#**Text preprocessing for dataset (without lematiztion)**"
      ]
    },
    {
      "cell_type": "code",
      "metadata": {
        "id": "SqmueMaWIsOq"
      },
      "source": [
        "dataset_ratings2['cleaned-reviews'] = dataset_ratings2['text'].apply(lambda x: re.sub(r'http\\S+', '', x)) "
      ],
      "execution_count": 34,
      "outputs": []
    },
    {
      "cell_type": "code",
      "metadata": {
        "id": "so72qb7DI3bd"
      },
      "source": [
        "dataset_ratings2['cleaned-reviews'] = dataset_ratings2['cleaned-reviews'].str.lower()"
      ],
      "execution_count": 35,
      "outputs": []
    },
    {
      "cell_type": "code",
      "metadata": {
        "id": "GwYh2u1kI-40"
      },
      "source": [
        "dataset_ratings2['cleaned-reviews'] = dataset_ratings2['cleaned-reviews'].apply(lambda x: re.sub(r'\\d+', '', x))"
      ],
      "execution_count": 36,
      "outputs": []
    },
    {
      "cell_type": "code",
      "metadata": {
        "id": "UxQtfl73JCAB"
      },
      "source": [
        "dataset_ratings2['cleaned-reviews'] = dataset_ratings2['cleaned-reviews'].apply(lambda x:' '.join(x.split()))"
      ],
      "execution_count": 37,
      "outputs": []
    },
    {
      "cell_type": "code",
      "metadata": {
        "id": "5pnoiUPQJKoF"
      },
      "source": [
        "punctuation = '\"#$%&()*+-/:;<=>@[\\\\]^_`{|}~\\''\n",
        "\n",
        "dataset_ratings2['cleaned-reviews'] = dataset_ratings2['cleaned-reviews'].apply(lambda x: ''.join(ch for ch in x if ch not in set(punctuation)))"
      ],
      "execution_count": 41,
      "outputs": []
    },
    {
      "cell_type": "code",
      "metadata": {
        "colab": {
          "base_uri": "https://localhost:8080/",
          "height": 206
        },
        "id": "TT2eao5nJOrI",
        "outputId": "d9cbc109-669b-4416-f9e1-cd25660c0d69"
      },
      "source": [
        "dataset_ratings2.head()"
      ],
      "execution_count": 42,
      "outputs": [
        {
          "output_type": "execute_result",
          "data": {
            "text/html": [
              "<div>\n",
              "<style scoped>\n",
              "    .dataframe tbody tr th:only-of-type {\n",
              "        vertical-align: middle;\n",
              "    }\n",
              "\n",
              "    .dataframe tbody tr th {\n",
              "        vertical-align: top;\n",
              "    }\n",
              "\n",
              "    .dataframe thead th {\n",
              "        text-align: right;\n",
              "    }\n",
              "</style>\n",
              "<table border=\"1\" class=\"dataframe\">\n",
              "  <thead>\n",
              "    <tr style=\"text-align: right;\">\n",
              "      <th></th>\n",
              "      <th>rating-other-user-rating</th>\n",
              "      <th>text</th>\n",
              "      <th>cleaned-reviews</th>\n",
              "    </tr>\n",
              "  </thead>\n",
              "  <tbody>\n",
              "    <tr>\n",
              "      <th>0</th>\n",
              "      <td>8.0</td>\n",
              "      <td>The first 80-90% of \"Interstellar\" I absolutel...</td>\n",
              "      <td>the first  of interstellar i absolutely loved ...</td>\n",
              "    </tr>\n",
              "    <tr>\n",
              "      <th>1</th>\n",
              "      <td>6.0</td>\n",
              "      <td>As someone who likes the cast, loved the conce...</td>\n",
              "      <td>as someone who likes the cast, loved the conce...</td>\n",
              "    </tr>\n",
              "    <tr>\n",
              "      <th>2</th>\n",
              "      <td>4.0</td>\n",
              "      <td>Another outer space film from Hollywood, this ...</td>\n",
              "      <td>another outer space film from hollywood, this ...</td>\n",
              "    </tr>\n",
              "    <tr>\n",
              "      <th>3</th>\n",
              "      <td>7.0</td>\n",
              "      <td>In the near future, Earth is devastated by bli...</td>\n",
              "      <td>in the near future, earth is devastated by bli...</td>\n",
              "    </tr>\n",
              "    <tr>\n",
              "      <th>4</th>\n",
              "      <td>7.0</td>\n",
              "      <td>I'm treading on some little used ground. From ...</td>\n",
              "      <td>im treading on some little used ground. from r...</td>\n",
              "    </tr>\n",
              "  </tbody>\n",
              "</table>\n",
              "</div>"
            ],
            "text/plain": [
              "   rating-other-user-rating  ...                                    cleaned-reviews\n",
              "0                       8.0  ...  the first  of interstellar i absolutely loved ...\n",
              "1                       6.0  ...  as someone who likes the cast, loved the conce...\n",
              "2                       4.0  ...  another outer space film from hollywood, this ...\n",
              "3                       7.0  ...  in the near future, earth is devastated by bli...\n",
              "4                       7.0  ...  im treading on some little used ground. from r...\n",
              "\n",
              "[5 rows x 3 columns]"
            ]
          },
          "metadata": {},
          "execution_count": 42
        }
      ]
    },
    {
      "cell_type": "markdown",
      "metadata": {
        "id": "f_ShduPPGeet"
      },
      "source": [
        "#**Model comparison for non-lematized text**"
      ]
    },
    {
      "cell_type": "code",
      "metadata": {
        "id": "Xl8Gsp9lGi9O"
      },
      "source": [
        "tfidf2 = TfidfVectorizer(ngram_range = (1,4), analyzer = 'word', stop_words='english', max_features = 6000000)"
      ],
      "execution_count": null,
      "outputs": []
    },
    {
      "cell_type": "code",
      "metadata": {
        "colab": {
          "base_uri": "https://localhost:8080/"
        },
        "id": "C7qS1Bk7IQzN",
        "outputId": "a7de4213-b097-4b20-e334-c54bf763e94b"
      },
      "source": [
        "x2 = tfidf.fit_transform(dataset_ratings2['cleaned-reviews'])\n",
        "y2 = dataset_ratings2['rating-other-user-rating']\n",
        "\n",
        "x2.shape, y2.shape"
      ],
      "execution_count": null,
      "outputs": [
        {
          "output_type": "execute_result",
          "data": {
            "text/plain": [
              "((25267, 4784171), (25267,))"
            ]
          },
          "metadata": {},
          "execution_count": 48
        }
      ]
    },
    {
      "cell_type": "code",
      "metadata": {
        "id": "7D9bxs0cKDUt"
      },
      "source": [
        "x_train2, x_test2, y_train2, y_test2 = train_test_split(x2,y2, test_size = 0.2, random_state = 0)"
      ],
      "execution_count": null,
      "outputs": []
    },
    {
      "cell_type": "code",
      "metadata": {
        "colab": {
          "base_uri": "https://localhost:8080/"
        },
        "id": "M3dvMNj_KLcW",
        "outputId": "07789ef1-d470-4aae-9bfc-c2d0a2891d75"
      },
      "source": [
        "clf_1 = LinearSVC(C = 10, class_weight= 'balanced', dual=True, verbose = 2)\n",
        "clf_1.fit(x_train2, y_train2)"
      ],
      "execution_count": null,
      "outputs": [
        {
          "output_type": "stream",
          "name": "stdout",
          "text": [
            "[LibLinear]"
          ]
        },
        {
          "output_type": "execute_result",
          "data": {
            "text/plain": [
              "LinearSVC(C=10, class_weight='balanced', verbose=2)"
            ]
          },
          "metadata": {},
          "execution_count": 54
        }
      ]
    },
    {
      "cell_type": "code",
      "metadata": {
        "colab": {
          "base_uri": "https://localhost:8080/"
        },
        "id": "Ob-Lu2F8LHM4",
        "outputId": "175a8cec-3e39-4a1a-d9ff-48e19cd0bd7a"
      },
      "source": [
        "y_pred2_1 = clf_1.predict(x_test2)\n",
        "print(classification_report(y_test2, y_pred2_1))"
      ],
      "execution_count": null,
      "outputs": [
        {
          "output_type": "stream",
          "name": "stdout",
          "text": [
            "              precision    recall  f1-score   support\n",
            "\n",
            "         1.0       0.53      0.92      0.68       859\n",
            "         2.0       0.74      0.11      0.19       226\n",
            "         3.0       0.70      0.10      0.18       227\n",
            "         4.0       0.64      0.13      0.22       230\n",
            "         5.0       0.43      0.16      0.23       327\n",
            "         6.0       0.33      0.26      0.29       360\n",
            "         7.0       0.34      0.33      0.34       587\n",
            "         8.0       0.37      0.32      0.34       713\n",
            "         9.0       0.39      0.24      0.30       627\n",
            "        10.0       0.45      0.76      0.57       898\n",
            "\n",
            "    accuracy                           0.45      5054\n",
            "   macro avg       0.49      0.33      0.33      5054\n",
            "weighted avg       0.46      0.45      0.40      5054\n",
            "\n"
          ]
        }
      ]
    },
    {
      "cell_type": "code",
      "metadata": {
        "colab": {
          "base_uri": "https://localhost:8080/"
        },
        "id": "F8hY4gPLMSLK",
        "outputId": "8cca62c5-73ff-44b2-b477-8dc2ef5e312f"
      },
      "source": [
        "clf_2 = LogisticRegression(solver = 'saga', C = 20, class_weight= 'balanced', max_iter= 2000)\n",
        "clf_2.fit(x_train2, y_train2)"
      ],
      "execution_count": null,
      "outputs": [
        {
          "output_type": "execute_result",
          "data": {
            "text/plain": [
              "LogisticRegression(C=20, class_weight='balanced', max_iter=2000, solver='saga')"
            ]
          },
          "metadata": {},
          "execution_count": 57
        }
      ]
    },
    {
      "cell_type": "code",
      "metadata": {
        "colab": {
          "base_uri": "https://localhost:8080/"
        },
        "id": "U1UeL1QwMlq8",
        "outputId": "b0110601-5f77-4247-e2c9-bf1e3ac4c51a"
      },
      "source": [
        "y_pred2_2 = clf_2.predict(x_test2)\n",
        "print(classification_report(y_test2, y_pred2_2))"
      ],
      "execution_count": null,
      "outputs": [
        {
          "output_type": "stream",
          "name": "stdout",
          "text": [
            "              precision    recall  f1-score   support\n",
            "\n",
            "         1.0       0.56      0.91      0.69       859\n",
            "         2.0       0.92      0.10      0.18       226\n",
            "         3.0       0.74      0.11      0.19       227\n",
            "         4.0       0.76      0.13      0.23       230\n",
            "         5.0       0.39      0.16      0.23       327\n",
            "         6.0       0.30      0.29      0.29       360\n",
            "         7.0       0.33      0.34      0.34       587\n",
            "         8.0       0.36      0.34      0.35       713\n",
            "         9.0       0.41      0.26      0.32       627\n",
            "        10.0       0.46      0.73      0.57       898\n",
            "\n",
            "    accuracy                           0.45      5054\n",
            "   macro avg       0.52      0.34      0.34      5054\n",
            "weighted avg       0.47      0.45      0.41      5054\n",
            "\n"
          ]
        }
      ]
    },
    {
      "cell_type": "code",
      "metadata": {
        "colab": {
          "base_uri": "https://localhost:8080/"
        },
        "id": "eHQ2jG-bNJuB",
        "outputId": "589e7242-afbe-4b74-8062-df1e8c139262"
      },
      "source": [
        "clf_3 = MultinomialNB(alpha = 0)\n",
        "clf_3.fit(x_train2, y_train2)"
      ],
      "execution_count": null,
      "outputs": [
        {
          "output_type": "stream",
          "name": "stderr",
          "text": [
            "/usr/local/lib/python3.7/dist-packages/sklearn/naive_bayes.py:557: UserWarning: alpha too small will result in numeric errors, setting alpha = 1.0e-10\n",
            "  % _ALPHA_MIN\n"
          ]
        },
        {
          "output_type": "execute_result",
          "data": {
            "text/plain": [
              "MultinomialNB(alpha=0)"
            ]
          },
          "metadata": {},
          "execution_count": 75
        }
      ]
    },
    {
      "cell_type": "code",
      "metadata": {
        "colab": {
          "base_uri": "https://localhost:8080/"
        },
        "id": "EZpNwaYtNakC",
        "outputId": "36d72a76-f52d-4b35-cb55-1754cb55b351"
      },
      "source": [
        "y_pred2_3 = clf_3.predict(x_test2)\n",
        "print(classification_report(y_test2, y_pred2_3))"
      ],
      "execution_count": null,
      "outputs": [
        {
          "output_type": "stream",
          "name": "stdout",
          "text": [
            "              precision    recall  f1-score   support\n",
            "\n",
            "         1.0       0.77      0.52      0.62       859\n",
            "         2.0       0.15      0.24      0.18       226\n",
            "         3.0       0.15      0.28      0.20       227\n",
            "         4.0       0.14      0.29      0.19       230\n",
            "         5.0       0.19      0.22      0.20       327\n",
            "         6.0       0.20      0.25      0.22       360\n",
            "         7.0       0.30      0.26      0.28       587\n",
            "         8.0       0.33      0.26      0.29       713\n",
            "         9.0       0.35      0.34      0.35       627\n",
            "        10.0       0.51      0.40      0.45       898\n",
            "\n",
            "    accuracy                           0.34      5054\n",
            "   macro avg       0.31      0.31      0.30      5054\n",
            "weighted avg       0.39      0.34      0.35      5054\n",
            "\n"
          ]
        }
      ]
    },
    {
      "cell_type": "code",
      "metadata": {
        "colab": {
          "base_uri": "https://localhost:8080/"
        },
        "id": "3bvdvA8NPhiR",
        "outputId": "a63ca9bd-04b9-4f3c-cd5c-14ba7e60e907"
      },
      "source": [
        "clf_4 = RandomForestClassifier(n_estimators = 10, criterion = 'entropy', random_state = 0)\n",
        "clf_4.fit(x_train2, y_train2)"
      ],
      "execution_count": null,
      "outputs": [
        {
          "output_type": "execute_result",
          "data": {
            "text/plain": [
              "RandomForestClassifier(criterion='entropy', n_estimators=10, random_state=0)"
            ]
          },
          "metadata": {},
          "execution_count": 77
        }
      ]
    },
    {
      "cell_type": "code",
      "metadata": {
        "colab": {
          "base_uri": "https://localhost:8080/"
        },
        "id": "OSMDim0ZP-6o",
        "outputId": "342a36e9-2310-43d7-8c7b-9a4b57df791d"
      },
      "source": [
        "y_pred2_4 = clf_4.predict(x_test2)\n",
        "print(classification_report(y_test2, y_pred2_4))"
      ],
      "execution_count": null,
      "outputs": [
        {
          "output_type": "stream",
          "name": "stdout",
          "text": [
            "              precision    recall  f1-score   support\n",
            "\n",
            "         1.0       0.40      0.81      0.53       859\n",
            "         2.0       0.44      0.09      0.15       226\n",
            "         3.0       0.53      0.11      0.18       227\n",
            "         4.0       0.51      0.13      0.21       230\n",
            "         5.0       0.38      0.13      0.19       327\n",
            "         6.0       0.32      0.14      0.20       360\n",
            "         7.0       0.31      0.21      0.25       587\n",
            "         8.0       0.32      0.23      0.27       713\n",
            "         9.0       0.35      0.25      0.29       627\n",
            "        10.0       0.33      0.55      0.41       898\n",
            "\n",
            "    accuracy                           0.36      5054\n",
            "   macro avg       0.39      0.27      0.27      5054\n",
            "weighted avg       0.36      0.36      0.32      5054\n",
            "\n"
          ]
        }
      ]
    },
    {
      "cell_type": "code",
      "metadata": {
        "id": "mq6_XCtkRUgX"
      },
      "source": [
        "accuracies2 = []\n",
        "f1_scores2 = []\n",
        "recalls2 = []\n",
        "precisions2 = []\n",
        "r2_scores2 = []\n",
        "\n",
        "\n",
        "model_names = ['Linear SVC', 'Logistic Regression' , 'Navie Bayes', 'Random forest Classifier']\n",
        "y_preds2 = [y_pred2_1, y_pred2_2, y_pred2_3, y_pred2_4 ]\n",
        "\n",
        "for idx, (names, pred) in enumerate(zip(model_names, y_preds2)):\n",
        "  accuracies2.append(accuracy_score(y_test2, pred))\n",
        "  f1_scores2.append(f1_score(y_test2, pred, average='weighted'))\n",
        "  recalls2.append(recall_score(y_test2, pred, average='weighted'))\n",
        "  precisions2.append(precision_score(y_test2, pred, average='weighted'))\n",
        "  r2_scores2.append(r2_score(y_test2, pred))"
      ],
      "execution_count": null,
      "outputs": []
    },
    {
      "cell_type": "code",
      "metadata": {
        "colab": {
          "base_uri": "https://localhost:8080/",
          "height": 175
        },
        "id": "adoqIEsdSXPR",
        "outputId": "2d5f1bcb-dccf-493a-ecf7-4fbf2ce324f7"
      },
      "source": [
        "comparing_df2 = pd.DataFrame.from_dict({\n",
        "    'name': model_names,\n",
        "    'accuracy': accuracies2,\n",
        "    'f1 score': f1_scores2,\n",
        "    'recall': recalls2,\n",
        "    'precision': precisions2,\n",
        "    'r squared': r2_scores2\n",
        "})\n",
        "\n",
        "comparing_df2"
      ],
      "execution_count": null,
      "outputs": [
        {
          "output_type": "execute_result",
          "data": {
            "text/html": [
              "<div>\n",
              "<style scoped>\n",
              "    .dataframe tbody tr th:only-of-type {\n",
              "        vertical-align: middle;\n",
              "    }\n",
              "\n",
              "    .dataframe tbody tr th {\n",
              "        vertical-align: top;\n",
              "    }\n",
              "\n",
              "    .dataframe thead th {\n",
              "        text-align: right;\n",
              "    }\n",
              "</style>\n",
              "<table border=\"1\" class=\"dataframe\">\n",
              "  <thead>\n",
              "    <tr style=\"text-align: right;\">\n",
              "      <th></th>\n",
              "      <th>name</th>\n",
              "      <th>accuracy</th>\n",
              "      <th>f1 score</th>\n",
              "      <th>recall</th>\n",
              "      <th>precision</th>\n",
              "      <th>r squared</th>\n",
              "    </tr>\n",
              "  </thead>\n",
              "  <tbody>\n",
              "    <tr>\n",
              "      <th>0</th>\n",
              "      <td>Linear SVC</td>\n",
              "      <td>0.447962</td>\n",
              "      <td>0.402245</td>\n",
              "      <td>0.447962</td>\n",
              "      <td>0.456757</td>\n",
              "      <td>0.392282</td>\n",
              "    </tr>\n",
              "    <tr>\n",
              "      <th>1</th>\n",
              "      <td>Logistic Regression</td>\n",
              "      <td>0.450139</td>\n",
              "      <td>0.408757</td>\n",
              "      <td>0.450139</td>\n",
              "      <td>0.473176</td>\n",
              "      <td>0.422843</td>\n",
              "    </tr>\n",
              "    <tr>\n",
              "      <th>2</th>\n",
              "      <td>Navie Bayes</td>\n",
              "      <td>0.335576</td>\n",
              "      <td>0.354477</td>\n",
              "      <td>0.335576</td>\n",
              "      <td>0.391471</td>\n",
              "      <td>0.347367</td>\n",
              "    </tr>\n",
              "    <tr>\n",
              "      <th>3</th>\n",
              "      <td>Random forest Classifier</td>\n",
              "      <td>0.357539</td>\n",
              "      <td>0.318044</td>\n",
              "      <td>0.357539</td>\n",
              "      <td>0.363977</td>\n",
              "      <td>-0.299637</td>\n",
              "    </tr>\n",
              "  </tbody>\n",
              "</table>\n",
              "</div>"
            ],
            "text/plain": [
              "                       name  accuracy  f1 score    recall  precision  r squared\n",
              "0                Linear SVC  0.447962  0.402245  0.447962   0.456757   0.392282\n",
              "1       Logistic Regression  0.450139  0.408757  0.450139   0.473176   0.422843\n",
              "2               Navie Bayes  0.335576  0.354477  0.335576   0.391471   0.347367\n",
              "3  Random forest Classifier  0.357539  0.318044  0.357539   0.363977  -0.299637"
            ]
          },
          "metadata": {},
          "execution_count": 88
        }
      ]
    },
    {
      "cell_type": "markdown",
      "metadata": {
        "id": "LikxIdnoUzEm"
      },
      "source": [
        "#**Model camparison for without stop words removed (with lematization)**"
      ]
    },
    {
      "cell_type": "code",
      "metadata": {
        "id": "z4cZvosgVbum"
      },
      "source": [
        "tfidf3 = TfidfVectorizer(ngram_range = (1,4), analyzer = 'word', stop_words=None, max_features = 6000000)"
      ],
      "execution_count": 14,
      "outputs": []
    },
    {
      "cell_type": "code",
      "metadata": {
        "colab": {
          "base_uri": "https://localhost:8080/"
        },
        "id": "qOiuIQlLWAHC",
        "outputId": "bd001b73-2b56-44f5-8368-9c4f4b38ef34"
      },
      "source": [
        "x3 = tfidf3.fit_transform(dataset_ratings3['cleaned-reviews'])\n",
        "y3 = dataset_ratings3['rating-other-user-rating']\n",
        "\n",
        "x3.shape, y3.shape"
      ],
      "execution_count": 15,
      "outputs": [
        {
          "output_type": "execute_result",
          "data": {
            "text/plain": [
              "((25267, 6000000), (25267,))"
            ]
          },
          "metadata": {},
          "execution_count": 15
        }
      ]
    },
    {
      "cell_type": "code",
      "metadata": {
        "id": "3A-MnsKdXpre"
      },
      "source": [
        "x_train3, x_test3, y_train3, y_test3 = train_test_split(x3,y3, test_size = 0.2, random_state = 0)"
      ],
      "execution_count": 16,
      "outputs": []
    },
    {
      "cell_type": "code",
      "metadata": {
        "colab": {
          "base_uri": "https://localhost:8080/"
        },
        "id": "AO2ovjYaXuMI",
        "outputId": "07395f17-3c2f-49f9-8246-61292a799290"
      },
      "source": [
        "#clf3_1 = LinearSVC(C = 10, class_weight= 'balanced', dual=True, verbose = 2)\n",
        "#clf3_1.fit(x_train3, y_train3)"
      ],
      "execution_count": null,
      "outputs": [
        {
          "output_type": "stream",
          "name": "stdout",
          "text": [
            "[LibLinear]"
          ]
        },
        {
          "output_type": "execute_result",
          "data": {
            "text/plain": [
              "LinearSVC(C=10, class_weight='balanced', verbose=2)"
            ]
          },
          "metadata": {},
          "execution_count": 100
        }
      ]
    },
    {
      "cell_type": "code",
      "metadata": {
        "colab": {
          "base_uri": "https://localhost:8080/"
        },
        "id": "-EMJq6PRabUz",
        "outputId": "ca8e85d1-fd0f-4572-916f-29692d2b2f88"
      },
      "source": [
        "#joblib.dump(clf3_1, 'linearsvcmodel3.h5')"
      ],
      "execution_count": null,
      "outputs": [
        {
          "output_type": "execute_result",
          "data": {
            "text/plain": [
              "['linearsvcmodel3.h5']"
            ]
          },
          "metadata": {},
          "execution_count": 102
        }
      ]
    },
    {
      "cell_type": "code",
      "metadata": {
        "id": "vxksfa57a1vP"
      },
      "source": [
        "clf3_1 = joblib.load('linearsvcmodel3.h5')"
      ],
      "execution_count": 17,
      "outputs": []
    },
    {
      "cell_type": "code",
      "metadata": {
        "colab": {
          "base_uri": "https://localhost:8080/"
        },
        "id": "PxdNSnjXaGH8",
        "outputId": "54a2b77b-0ec5-4119-c923-3cf262281bd9"
      },
      "source": [
        "y_pred3_1 = clf3_1.predict(x_test3)\n",
        "print(classification_report(y_test3, y_pred3_1))"
      ],
      "execution_count": 18,
      "outputs": [
        {
          "output_type": "stream",
          "name": "stdout",
          "text": [
            "              precision    recall  f1-score   support\n",
            "\n",
            "         1.0       0.56      0.92      0.70       859\n",
            "         2.0       0.62      0.12      0.21       226\n",
            "         3.0       0.61      0.11      0.19       227\n",
            "         4.0       0.59      0.14      0.23       230\n",
            "         5.0       0.43      0.19      0.26       327\n",
            "         6.0       0.30      0.29      0.29       360\n",
            "         7.0       0.36      0.35      0.36       587\n",
            "         8.0       0.39      0.34      0.37       713\n",
            "         9.0       0.37      0.23      0.29       627\n",
            "        10.0       0.47      0.75      0.58       898\n",
            "\n",
            "    accuracy                           0.46      5054\n",
            "   macro avg       0.47      0.35      0.35      5054\n",
            "weighted avg       0.45      0.46      0.42      5054\n",
            "\n"
          ]
        }
      ]
    },
    {
      "cell_type": "code",
      "metadata": {
        "id": "dsnpqaBkbdAS",
        "colab": {
          "base_uri": "https://localhost:8080/"
        },
        "outputId": "95c08f4d-1096-4a0d-fec9-86c1e18838b4"
      },
      "source": [
        "#clf3_2 = LogisticRegression(solver = 'saga', C = 20, class_weight= 'balanced', max_iter= 2000)\n",
        "#clf3_2.fit(x_train3, y_train3)"
      ],
      "execution_count": 19,
      "outputs": [
        {
          "output_type": "execute_result",
          "data": {
            "text/plain": [
              "LogisticRegression(C=20, class_weight='balanced', max_iter=2000, solver='saga')"
            ]
          },
          "metadata": {},
          "execution_count": 19
        }
      ]
    },
    {
      "cell_type": "code",
      "metadata": {
        "colab": {
          "base_uri": "https://localhost:8080/"
        },
        "id": "4OKbnaH3gzha",
        "outputId": "74aac89e-6f99-4cf2-b4a7-636a95f72983"
      },
      "source": [
        "#joblib.dump(clf3_2, 'logisticregression3.h5')"
      ],
      "execution_count": 20,
      "outputs": [
        {
          "output_type": "execute_result",
          "data": {
            "text/plain": [
              "['logisticregression3.h5']"
            ]
          },
          "metadata": {},
          "execution_count": 20
        }
      ]
    },
    {
      "cell_type": "code",
      "metadata": {
        "id": "q7hrW6DuhGmi"
      },
      "source": [
        "clf3_2 = joblib.load('logisticregression3.h5')"
      ],
      "execution_count": 22,
      "outputs": []
    },
    {
      "cell_type": "code",
      "metadata": {
        "colab": {
          "base_uri": "https://localhost:8080/"
        },
        "id": "vVehqQfLhTot",
        "outputId": "023cfbc1-04d6-4b24-97eb-df3ff61fb991"
      },
      "source": [
        "y_pred3_2 = clf3_2.predict(x_test3)\n",
        "print(classification_report(y_test3, y_pred3_2))"
      ],
      "execution_count": 23,
      "outputs": [
        {
          "output_type": "stream",
          "name": "stdout",
          "text": [
            "              precision    recall  f1-score   support\n",
            "\n",
            "         1.0       0.57      0.91      0.70       859\n",
            "         2.0       0.89      0.11      0.19       226\n",
            "         3.0       0.55      0.11      0.18       227\n",
            "         4.0       0.55      0.14      0.22       230\n",
            "         5.0       0.40      0.20      0.27       327\n",
            "         6.0       0.27      0.30      0.28       360\n",
            "         7.0       0.36      0.37      0.37       587\n",
            "         8.0       0.37      0.35      0.36       713\n",
            "         9.0       0.39      0.25      0.30       627\n",
            "        10.0       0.49      0.73      0.59       898\n",
            "\n",
            "    accuracy                           0.46      5054\n",
            "   macro avg       0.49      0.35      0.35      5054\n",
            "weighted avg       0.46      0.46      0.42      5054\n",
            "\n"
          ]
        }
      ]
    },
    {
      "cell_type": "code",
      "metadata": {
        "colab": {
          "base_uri": "https://localhost:8080/"
        },
        "id": "1IcULlEXhXV9",
        "outputId": "24b1cb7d-a1a4-48cf-908f-adc69a4887c1"
      },
      "source": [
        "clf3_3 = MultinomialNB(alpha = 0)\n",
        "clf3_3.fit(x_train3, y_train3)"
      ],
      "execution_count": 24,
      "outputs": [
        {
          "output_type": "stream",
          "name": "stderr",
          "text": [
            "/usr/local/lib/python3.7/dist-packages/sklearn/naive_bayes.py:557: UserWarning: alpha too small will result in numeric errors, setting alpha = 1.0e-10\n",
            "  % _ALPHA_MIN\n"
          ]
        },
        {
          "output_type": "execute_result",
          "data": {
            "text/plain": [
              "MultinomialNB(alpha=0)"
            ]
          },
          "metadata": {},
          "execution_count": 24
        }
      ]
    },
    {
      "cell_type": "code",
      "metadata": {
        "colab": {
          "base_uri": "https://localhost:8080/"
        },
        "id": "MxM0jemZhlmg",
        "outputId": "8023d2e3-79f9-4400-c1dc-715940631286"
      },
      "source": [
        "y_pred3_3 = clf3_3.predict(x_test3)\n",
        "print(classification_report(y_test3, y_pred3_3))"
      ],
      "execution_count": 25,
      "outputs": [
        {
          "output_type": "stream",
          "name": "stdout",
          "text": [
            "              precision    recall  f1-score   support\n",
            "\n",
            "         1.0       0.77      0.67      0.71       859\n",
            "         2.0       0.44      0.14      0.21       226\n",
            "         3.0       0.43      0.15      0.23       227\n",
            "         4.0       0.46      0.16      0.24       230\n",
            "         5.0       0.31      0.15      0.20       327\n",
            "         6.0       0.24      0.25      0.25       360\n",
            "         7.0       0.28      0.35      0.31       587\n",
            "         8.0       0.27      0.40      0.32       713\n",
            "         9.0       0.28      0.31      0.30       627\n",
            "        10.0       0.44      0.51      0.47       898\n",
            "\n",
            "    accuracy                           0.39      5054\n",
            "   macro avg       0.39      0.31      0.32      5054\n",
            "weighted avg       0.41      0.39      0.38      5054\n",
            "\n"
          ]
        }
      ]
    },
    {
      "cell_type": "code",
      "metadata": {
        "colab": {
          "base_uri": "https://localhost:8080/"
        },
        "id": "wxgaYPPQhluF",
        "outputId": "c7965d6b-96a7-42ac-954f-a1b6e5097c73"
      },
      "source": [
        "clf3_4 = RandomForestClassifier(n_estimators = 10, criterion = 'entropy', random_state = 0)\n",
        "clf3_4.fit(x_train3, y_train3)"
      ],
      "execution_count": 26,
      "outputs": [
        {
          "output_type": "execute_result",
          "data": {
            "text/plain": [
              "RandomForestClassifier(criterion='entropy', n_estimators=10, random_state=0)"
            ]
          },
          "metadata": {},
          "execution_count": 26
        }
      ]
    },
    {
      "cell_type": "code",
      "metadata": {
        "colab": {
          "base_uri": "https://localhost:8080/"
        },
        "id": "D-4EMi20iFog",
        "outputId": "86baa31f-160a-4747-c148-c4b1ac22066c"
      },
      "source": [
        "joblib.dump(clf3_4, 'randomforest3.h5')"
      ],
      "execution_count": 27,
      "outputs": [
        {
          "output_type": "execute_result",
          "data": {
            "text/plain": [
              "['randomforest3.h5']"
            ]
          },
          "metadata": {},
          "execution_count": 27
        }
      ]
    },
    {
      "cell_type": "code",
      "metadata": {
        "id": "-O3SFCNbiN0I"
      },
      "source": [
        "clf3_4 = joblib.load('randomforest3.h5')"
      ],
      "execution_count": 28,
      "outputs": []
    },
    {
      "cell_type": "code",
      "metadata": {
        "colab": {
          "base_uri": "https://localhost:8080/"
        },
        "id": "XCUKa0HiiUzn",
        "outputId": "723f64ee-0140-4d06-9709-0634bfe71760"
      },
      "source": [
        "y_pred3_4 = clf3_4.predict(x_test3)\n",
        "print(classification_report(y_test3, y_pred3_4))"
      ],
      "execution_count": 30,
      "outputs": [
        {
          "output_type": "stream",
          "name": "stdout",
          "text": [
            "              precision    recall  f1-score   support\n",
            "\n",
            "         1.0       0.40      0.79      0.53       859\n",
            "         2.0       0.49      0.11      0.17       226\n",
            "         3.0       0.38      0.10      0.15       227\n",
            "         4.0       0.41      0.13      0.19       230\n",
            "         5.0       0.35      0.15      0.21       327\n",
            "         6.0       0.26      0.15      0.19       360\n",
            "         7.0       0.30      0.24      0.27       587\n",
            "         8.0       0.33      0.28      0.30       713\n",
            "         9.0       0.30      0.22      0.25       627\n",
            "        10.0       0.35      0.52      0.42       898\n",
            "\n",
            "    accuracy                           0.35      5054\n",
            "   macro avg       0.36      0.27      0.27      5054\n",
            "weighted avg       0.35      0.35      0.32      5054\n",
            "\n"
          ]
        }
      ]
    },
    {
      "cell_type": "code",
      "metadata": {
        "id": "wvABPTXPkBF4"
      },
      "source": [
        "accuracies3 = []\n",
        "f1_scores3 = []\n",
        "recalls3 = []\n",
        "precisions3 = []\n",
        "r2_scores3 = []\n",
        "\n",
        "\n",
        "model_names = ['Linear SVC', 'Logistic Regression' , 'Navie Bayes', 'Random forest Classifier']\n",
        "y_preds3 = [y_pred3_1, y_pred3_2, y_pred3_3, y_pred3_4 ]\n",
        "\n",
        "for idx, (names, pred) in enumerate(zip(model_names, y_preds3)):\n",
        "  accuracies3.append(accuracy_score(y_test3, pred))\n",
        "  f1_scores3.append(f1_score(y_test3, pred, average='weighted'))\n",
        "  recalls3.append(recall_score(y_test3, pred, average='weighted'))\n",
        "  precisions3.append(precision_score(y_test3, pred, average='weighted'))\n",
        "  r2_scores3.append(r2_score(y_test3, pred))"
      ],
      "execution_count": 32,
      "outputs": []
    },
    {
      "cell_type": "code",
      "metadata": {
        "colab": {
          "base_uri": "https://localhost:8080/",
          "height": 175
        },
        "id": "DmwjdT21kWSM",
        "outputId": "d8dc40cf-aac1-404f-dec7-6387a57a838c"
      },
      "source": [
        "comparing_df3 = pd.DataFrame.from_dict({\n",
        "    'name': model_names,\n",
        "    'accuracy': accuracies3,\n",
        "    'f1 score': f1_scores3,\n",
        "    'recall': recalls3,\n",
        "    'precision': precisions3,\n",
        "    'r squared': r2_scores3\n",
        "})\n",
        "\n",
        "comparing_df3"
      ],
      "execution_count": 33,
      "outputs": [
        {
          "output_type": "execute_result",
          "data": {
            "text/html": [
              "<div>\n",
              "<style scoped>\n",
              "    .dataframe tbody tr th:only-of-type {\n",
              "        vertical-align: middle;\n",
              "    }\n",
              "\n",
              "    .dataframe tbody tr th {\n",
              "        vertical-align: top;\n",
              "    }\n",
              "\n",
              "    .dataframe thead th {\n",
              "        text-align: right;\n",
              "    }\n",
              "</style>\n",
              "<table border=\"1\" class=\"dataframe\">\n",
              "  <thead>\n",
              "    <tr style=\"text-align: right;\">\n",
              "      <th></th>\n",
              "      <th>name</th>\n",
              "      <th>accuracy</th>\n",
              "      <th>f1 score</th>\n",
              "      <th>recall</th>\n",
              "      <th>precision</th>\n",
              "      <th>r squared</th>\n",
              "    </tr>\n",
              "  </thead>\n",
              "  <tbody>\n",
              "    <tr>\n",
              "      <th>0</th>\n",
              "      <td>Linear SVC</td>\n",
              "      <td>0.457657</td>\n",
              "      <td>0.416303</td>\n",
              "      <td>0.457657</td>\n",
              "      <td>0.453606</td>\n",
              "      <td>0.482226</td>\n",
              "    </tr>\n",
              "    <tr>\n",
              "      <th>1</th>\n",
              "      <td>Logistic Regression</td>\n",
              "      <td>0.458251</td>\n",
              "      <td>0.419864</td>\n",
              "      <td>0.458251</td>\n",
              "      <td>0.463040</td>\n",
              "      <td>0.481182</td>\n",
              "    </tr>\n",
              "    <tr>\n",
              "      <th>2</th>\n",
              "      <td>Navie Bayes</td>\n",
              "      <td>0.388405</td>\n",
              "      <td>0.384641</td>\n",
              "      <td>0.388405</td>\n",
              "      <td>0.410391</td>\n",
              "      <td>0.374138</td>\n",
              "    </tr>\n",
              "    <tr>\n",
              "      <th>3</th>\n",
              "      <td>Random forest Classifier</td>\n",
              "      <td>0.354966</td>\n",
              "      <td>0.320256</td>\n",
              "      <td>0.354966</td>\n",
              "      <td>0.348980</td>\n",
              "      <td>-0.317355</td>\n",
              "    </tr>\n",
              "  </tbody>\n",
              "</table>\n",
              "</div>"
            ],
            "text/plain": [
              "                       name  accuracy  f1 score    recall  precision  r squared\n",
              "0                Linear SVC  0.457657  0.416303  0.457657   0.453606   0.482226\n",
              "1       Logistic Regression  0.458251  0.419864  0.458251   0.463040   0.481182\n",
              "2               Navie Bayes  0.388405  0.384641  0.388405   0.410391   0.374138\n",
              "3  Random forest Classifier  0.354966  0.320256  0.354966   0.348980  -0.317355"
            ]
          },
          "metadata": {},
          "execution_count": 33
        }
      ]
    },
    {
      "cell_type": "markdown",
      "metadata": {
        "id": "OcBiiwCTke-V"
      },
      "source": [
        "#**Model camparison for without stop words removed (without lematization)**"
      ]
    },
    {
      "cell_type": "code",
      "metadata": {
        "colab": {
          "base_uri": "https://localhost:8080/",
          "height": 206
        },
        "id": "dNg-Ih5AkrVA",
        "outputId": "9a2f802d-dbcc-4e16-9510-0061ccba37e0"
      },
      "source": [
        "dataset_ratings2.head()"
      ],
      "execution_count": 40,
      "outputs": [
        {
          "output_type": "execute_result",
          "data": {
            "text/html": [
              "<div>\n",
              "<style scoped>\n",
              "    .dataframe tbody tr th:only-of-type {\n",
              "        vertical-align: middle;\n",
              "    }\n",
              "\n",
              "    .dataframe tbody tr th {\n",
              "        vertical-align: top;\n",
              "    }\n",
              "\n",
              "    .dataframe thead th {\n",
              "        text-align: right;\n",
              "    }\n",
              "</style>\n",
              "<table border=\"1\" class=\"dataframe\">\n",
              "  <thead>\n",
              "    <tr style=\"text-align: right;\">\n",
              "      <th></th>\n",
              "      <th>rating-other-user-rating</th>\n",
              "      <th>text</th>\n",
              "      <th>cleaned-reviews</th>\n",
              "    </tr>\n",
              "  </thead>\n",
              "  <tbody>\n",
              "    <tr>\n",
              "      <th>0</th>\n",
              "      <td>8.0</td>\n",
              "      <td>The first 80-90% of \"Interstellar\" I absolutel...</td>\n",
              "      <td>the first  of interstellar i absolutely loved ...</td>\n",
              "    </tr>\n",
              "    <tr>\n",
              "      <th>1</th>\n",
              "      <td>6.0</td>\n",
              "      <td>As someone who likes the cast, loved the conce...</td>\n",
              "      <td>as someone who likes the cast, loved the conce...</td>\n",
              "    </tr>\n",
              "    <tr>\n",
              "      <th>2</th>\n",
              "      <td>4.0</td>\n",
              "      <td>Another outer space film from Hollywood, this ...</td>\n",
              "      <td>another outer space film from hollywood, this ...</td>\n",
              "    </tr>\n",
              "    <tr>\n",
              "      <th>3</th>\n",
              "      <td>7.0</td>\n",
              "      <td>In the near future, Earth is devastated by bli...</td>\n",
              "      <td>in the near future, earth is devastated by bli...</td>\n",
              "    </tr>\n",
              "    <tr>\n",
              "      <th>4</th>\n",
              "      <td>7.0</td>\n",
              "      <td>I'm treading on some little used ground. From ...</td>\n",
              "      <td>i'm treading on some little used ground. from ...</td>\n",
              "    </tr>\n",
              "  </tbody>\n",
              "</table>\n",
              "</div>"
            ],
            "text/plain": [
              "   rating-other-user-rating  ...                                    cleaned-reviews\n",
              "0                       8.0  ...  the first  of interstellar i absolutely loved ...\n",
              "1                       6.0  ...  as someone who likes the cast, loved the conce...\n",
              "2                       4.0  ...  another outer space film from hollywood, this ...\n",
              "3                       7.0  ...  in the near future, earth is devastated by bli...\n",
              "4                       7.0  ...  i'm treading on some little used ground. from ...\n",
              "\n",
              "[5 rows x 3 columns]"
            ]
          },
          "metadata": {},
          "execution_count": 40
        }
      ]
    },
    {
      "cell_type": "code",
      "metadata": {
        "id": "idbISU5fotLN"
      },
      "source": [
        "tfidf4 = TfidfVectorizer(ngram_range = (1,4), analyzer = 'word', stop_words=None, max_features = 6000000)"
      ],
      "execution_count": 43,
      "outputs": []
    },
    {
      "cell_type": "code",
      "metadata": {
        "colab": {
          "base_uri": "https://localhost:8080/"
        },
        "id": "jjqZbhK8pGkN",
        "outputId": "fb57a6fb-7674-47c7-d8e3-eeb8bcbecb1b"
      },
      "source": [
        "x4 = tfidf4.fit_transform(dataset_ratings2['cleaned-reviews'])\n",
        "y4 = dataset_ratings2['rating-other-user-rating']\n",
        "\n",
        "x4.shape, y4.shape"
      ],
      "execution_count": 44,
      "outputs": [
        {
          "output_type": "execute_result",
          "data": {
            "text/plain": [
              "((25267, 6000000), (25267,))"
            ]
          },
          "metadata": {},
          "execution_count": 44
        }
      ]
    },
    {
      "cell_type": "code",
      "metadata": {
        "id": "ZXOY7zudpSN8"
      },
      "source": [
        "x_train4, x_test4, y_train4, y_test4 = train_test_split(x4,y4, test_size = 0.2, random_state = 0)"
      ],
      "execution_count": 45,
      "outputs": []
    },
    {
      "cell_type": "code",
      "metadata": {
        "colab": {
          "base_uri": "https://localhost:8080/"
        },
        "id": "DkDvMb-cq5VL",
        "outputId": "6fb4766f-c04f-4551-f11f-1319702c5395"
      },
      "source": [
        "#clf4_1 = LinearSVC(C = 10, class_weight= 'balanced', dual=True, verbose = 2)\n",
        "#clf4_1.fit(x_train4, y_train4)"
      ],
      "execution_count": 46,
      "outputs": [
        {
          "output_type": "stream",
          "name": "stdout",
          "text": [
            "[LibLinear]"
          ]
        },
        {
          "output_type": "execute_result",
          "data": {
            "text/plain": [
              "LinearSVC(C=10, class_weight='balanced', verbose=2)"
            ]
          },
          "metadata": {},
          "execution_count": 46
        }
      ]
    },
    {
      "cell_type": "code",
      "metadata": {
        "colab": {
          "base_uri": "https://localhost:8080/"
        },
        "id": "Ox8C-52lq_Gr",
        "outputId": "561951e2-20a8-4faf-f8f0-8b878f2a7080"
      },
      "source": [
        "#joblib.dump(clf4_1, 'linearsvc4.h5')"
      ],
      "execution_count": 48,
      "outputs": [
        {
          "output_type": "execute_result",
          "data": {
            "text/plain": [
              "['linearsvc4.h5']"
            ]
          },
          "metadata": {},
          "execution_count": 48
        }
      ]
    },
    {
      "cell_type": "code",
      "metadata": {
        "id": "2Nc8mJ8JuPxM"
      },
      "source": [
        "clf4_1 = joblib.load('linearsvc4.h5')"
      ],
      "execution_count": 49,
      "outputs": []
    },
    {
      "cell_type": "code",
      "metadata": {
        "colab": {
          "base_uri": "https://localhost:8080/"
        },
        "id": "XnCAu4Z7v3Ak",
        "outputId": "6eda6ea1-3211-4bdb-d7d8-d9ef38ebe4d6"
      },
      "source": [
        "y_pred4_1 = clf4_1.predict(x_test4)\n",
        "print(classification_report(y_test4, y_pred4_1))"
      ],
      "execution_count": 51,
      "outputs": [
        {
          "output_type": "stream",
          "name": "stdout",
          "text": [
            "              precision    recall  f1-score   support\n",
            "\n",
            "         1.0       0.56      0.93      0.70       859\n",
            "         2.0       0.71      0.13      0.22       226\n",
            "         3.0       0.57      0.11      0.18       227\n",
            "         4.0       0.62      0.14      0.23       230\n",
            "         5.0       0.42      0.19      0.26       327\n",
            "         6.0       0.31      0.29      0.30       360\n",
            "         7.0       0.37      0.37      0.37       587\n",
            "         8.0       0.39      0.33      0.36       713\n",
            "         9.0       0.38      0.25      0.30       627\n",
            "        10.0       0.48      0.75      0.58       898\n",
            "\n",
            "    accuracy                           0.46      5054\n",
            "   macro avg       0.48      0.35      0.35      5054\n",
            "weighted avg       0.46      0.46      0.42      5054\n",
            "\n"
          ]
        }
      ]
    },
    {
      "cell_type": "code",
      "metadata": {
        "colab": {
          "base_uri": "https://localhost:8080/"
        },
        "id": "1ktIVsHgwDiE",
        "outputId": "68096995-813f-4655-a3ea-a6c987951f65"
      },
      "source": [
        "clf4_2 = LogisticRegression(solver = 'saga', C = 20, class_weight= 'balanced', max_iter= 2000)\n",
        "clf4_2.fit(x_train4, y_train4)"
      ],
      "execution_count": 52,
      "outputs": [
        {
          "output_type": "execute_result",
          "data": {
            "text/plain": [
              "LogisticRegression(C=20, class_weight='balanced', max_iter=2000, solver='saga')"
            ]
          },
          "metadata": {},
          "execution_count": 52
        }
      ]
    },
    {
      "cell_type": "code",
      "metadata": {
        "colab": {
          "base_uri": "https://localhost:8080/"
        },
        "id": "c-S-IcmpxRkU",
        "outputId": "035db048-7bc7-4427-ef13-083e262ce980"
      },
      "source": [
        "joblib.dump(clf4_2, 'linearsvc4.h5')"
      ],
      "execution_count": 53,
      "outputs": [
        {
          "output_type": "execute_result",
          "data": {
            "text/plain": [
              "['linearsvc4.h5']"
            ]
          },
          "metadata": {},
          "execution_count": 53
        }
      ]
    },
    {
      "cell_type": "code",
      "metadata": {
        "id": "QhupQ_McxZ5s"
      },
      "source": [
        "clf4_2 = joblib.load('linearsvc4.h5')"
      ],
      "execution_count": 54,
      "outputs": []
    },
    {
      "cell_type": "code",
      "metadata": {
        "colab": {
          "base_uri": "https://localhost:8080/"
        },
        "id": "w_vzP_cuxh5e",
        "outputId": "a3525c11-77f9-4f18-e2f0-f51289d3bc4d"
      },
      "source": [
        "y_pred4_2 = clf4_2.predict(x_test4)\n",
        "print(classification_report(y_test4, y_pred4_2))"
      ],
      "execution_count": 56,
      "outputs": [
        {
          "output_type": "stream",
          "name": "stdout",
          "text": [
            "              precision    recall  f1-score   support\n",
            "\n",
            "         1.0       0.58      0.92      0.71       859\n",
            "         2.0       0.76      0.11      0.19       226\n",
            "         3.0       0.52      0.11      0.18       227\n",
            "         4.0       0.60      0.14      0.23       230\n",
            "         5.0       0.37      0.18      0.25       327\n",
            "         6.0       0.29      0.31      0.30       360\n",
            "         7.0       0.36      0.37      0.36       587\n",
            "         8.0       0.39      0.36      0.38       713\n",
            "         9.0       0.39      0.27      0.32       627\n",
            "        10.0       0.50      0.73      0.59       898\n",
            "\n",
            "    accuracy                           0.46      5054\n",
            "   macro avg       0.48      0.35      0.35      5054\n",
            "weighted avg       0.46      0.46      0.42      5054\n",
            "\n"
          ]
        }
      ]
    },
    {
      "cell_type": "code",
      "metadata": {
        "colab": {
          "base_uri": "https://localhost:8080/"
        },
        "id": "5EnZLDahxvwc",
        "outputId": "4e2123d1-d6ce-40c3-d495-8f533746d902"
      },
      "source": [
        "clf4_3 = MultinomialNB(alpha = 0)\n",
        "clf4_3.fit(x_train4, y_train4)"
      ],
      "execution_count": 57,
      "outputs": [
        {
          "output_type": "stream",
          "name": "stderr",
          "text": [
            "/usr/local/lib/python3.7/dist-packages/sklearn/naive_bayes.py:557: UserWarning: alpha too small will result in numeric errors, setting alpha = 1.0e-10\n",
            "  % _ALPHA_MIN\n"
          ]
        },
        {
          "output_type": "execute_result",
          "data": {
            "text/plain": [
              "MultinomialNB(alpha=0)"
            ]
          },
          "metadata": {},
          "execution_count": 57
        }
      ]
    },
    {
      "cell_type": "code",
      "metadata": {
        "colab": {
          "base_uri": "https://localhost:8080/"
        },
        "id": "HT6TrXfFx524",
        "outputId": "4c516dfa-fb1c-4c2e-ba06-d84442ae2d87"
      },
      "source": [
        "y_pred4_3 = clf4_3.predict(x_test4)\n",
        "print(classification_report(y_test4, y_pred4_3))"
      ],
      "execution_count": 58,
      "outputs": [
        {
          "output_type": "stream",
          "name": "stdout",
          "text": [
            "              precision    recall  f1-score   support\n",
            "\n",
            "         1.0       0.75      0.66      0.70       859\n",
            "         2.0       0.42      0.13      0.20       226\n",
            "         3.0       0.37      0.12      0.19       227\n",
            "         4.0       0.44      0.16      0.24       230\n",
            "         5.0       0.31      0.16      0.21       327\n",
            "         6.0       0.23      0.28      0.25       360\n",
            "         7.0       0.27      0.34      0.30       587\n",
            "         8.0       0.28      0.38      0.33       713\n",
            "         9.0       0.30      0.33      0.31       627\n",
            "        10.0       0.44      0.54      0.49       898\n",
            "\n",
            "    accuracy                           0.39      5054\n",
            "   macro avg       0.38      0.31      0.32      5054\n",
            "weighted avg       0.41      0.39      0.39      5054\n",
            "\n"
          ]
        }
      ]
    },
    {
      "cell_type": "code",
      "metadata": {
        "colab": {
          "base_uri": "https://localhost:8080/"
        },
        "id": "RhrX_eCgyL76",
        "outputId": "090b24cd-e580-4264-d782-6db5d192a61f"
      },
      "source": [
        "clf4_4 = RandomForestClassifier(n_estimators = 10, criterion = 'entropy', random_state = 0)\n",
        "clf4_4.fit(x_train4, y_train4)"
      ],
      "execution_count": 59,
      "outputs": [
        {
          "output_type": "execute_result",
          "data": {
            "text/plain": [
              "RandomForestClassifier(criterion='entropy', n_estimators=10, random_state=0)"
            ]
          },
          "metadata": {},
          "execution_count": 59
        }
      ]
    },
    {
      "cell_type": "code",
      "metadata": {
        "colab": {
          "base_uri": "https://localhost:8080/"
        },
        "id": "k4Gs17oW08Ys",
        "outputId": "7600315f-a5f6-462e-bba8-74122e0c70bf"
      },
      "source": [
        "joblib.dump(clf4_4, 'randomforest4.h5')"
      ],
      "execution_count": 60,
      "outputs": [
        {
          "output_type": "execute_result",
          "data": {
            "text/plain": [
              "['randomforest4.h5']"
            ]
          },
          "metadata": {},
          "execution_count": 60
        }
      ]
    },
    {
      "cell_type": "code",
      "metadata": {
        "colab": {
          "base_uri": "https://localhost:8080/"
        },
        "id": "yjpiUSMg1FWB",
        "outputId": "6831cdbe-2189-460a-ed5d-12e905ace134"
      },
      "source": [
        "joblib.load('randomforest4.h5')"
      ],
      "execution_count": 61,
      "outputs": [
        {
          "output_type": "execute_result",
          "data": {
            "text/plain": [
              "RandomForestClassifier(criterion='entropy', n_estimators=10, random_state=0)"
            ]
          },
          "metadata": {},
          "execution_count": 61
        }
      ]
    },
    {
      "cell_type": "code",
      "metadata": {
        "colab": {
          "base_uri": "https://localhost:8080/"
        },
        "id": "YY5nU9ZL1KQS",
        "outputId": "4f218406-e20a-404c-d25f-645591e50b1b"
      },
      "source": [
        "y_pred4_4 = clf4_4.predict(x_test4)\n",
        "print(classification_report(y_test4, y_pred4_4))"
      ],
      "execution_count": 62,
      "outputs": [
        {
          "output_type": "stream",
          "name": "stdout",
          "text": [
            "              precision    recall  f1-score   support\n",
            "\n",
            "         1.0       0.37      0.80      0.51       859\n",
            "         2.0       0.40      0.12      0.18       226\n",
            "         3.0       0.46      0.10      0.16       227\n",
            "         4.0       0.46      0.13      0.20       230\n",
            "         5.0       0.30      0.12      0.17       327\n",
            "         6.0       0.27      0.16      0.20       360\n",
            "         7.0       0.36      0.23      0.28       587\n",
            "         8.0       0.28      0.25      0.27       713\n",
            "         9.0       0.28      0.22      0.25       627\n",
            "        10.0       0.34      0.44      0.38       898\n",
            "\n",
            "    accuracy                           0.34      5054\n",
            "   macro avg       0.35      0.26      0.26      5054\n",
            "weighted avg       0.34      0.34      0.30      5054\n",
            "\n"
          ]
        }
      ]
    },
    {
      "cell_type": "code",
      "metadata": {
        "id": "Fb9J-QVH1PH6"
      },
      "source": [
        "accuracies4 = []\n",
        "f1_scores4 = []\n",
        "recalls4 = []\n",
        "precisions4 = []\n",
        "r2_scores4 = []\n",
        "\n",
        "\n",
        "model_names = ['Linear SVC', 'Logistic Regression' , 'Navie Bayes', 'Random forest Classifier']\n",
        "y_preds4 = [y_pred4_1, y_pred4_2, y_pred4_3, y_pred4_4 ]\n",
        "\n",
        "for idx, (names, pred) in enumerate(zip(model_names, y_preds3)):\n",
        "  accuracies4.append(accuracy_score(y_test4, pred))\n",
        "  f1_scores4.append(f1_score(y_test4, pred, average='weighted'))\n",
        "  recalls4.append(recall_score(y_test4, pred, average='weighted'))\n",
        "  precisions4.append(precision_score(y_test4, pred, average='weighted'))\n",
        "  r2_scores4.append(r2_score(y_test4, pred))"
      ],
      "execution_count": 63,
      "outputs": []
    },
    {
      "cell_type": "code",
      "metadata": {
        "colab": {
          "base_uri": "https://localhost:8080/",
          "height": 175
        },
        "id": "DXwz270o1ecy",
        "outputId": "81e0611d-4727-441b-c4dc-5c50b330c949"
      },
      "source": [
        "comparing_df4 = pd.DataFrame.from_dict({\n",
        "    'name': model_names,\n",
        "    'accuracy': accuracies4,\n",
        "    'f1 score': f1_scores4,\n",
        "    'recall': recalls4,\n",
        "    'precision': precisions4,\n",
        "    'r squared': r2_scores4\n",
        "})\n",
        "\n",
        "comparing_df4"
      ],
      "execution_count": 64,
      "outputs": [
        {
          "output_type": "execute_result",
          "data": {
            "text/html": [
              "<div>\n",
              "<style scoped>\n",
              "    .dataframe tbody tr th:only-of-type {\n",
              "        vertical-align: middle;\n",
              "    }\n",
              "\n",
              "    .dataframe tbody tr th {\n",
              "        vertical-align: top;\n",
              "    }\n",
              "\n",
              "    .dataframe thead th {\n",
              "        text-align: right;\n",
              "    }\n",
              "</style>\n",
              "<table border=\"1\" class=\"dataframe\">\n",
              "  <thead>\n",
              "    <tr style=\"text-align: right;\">\n",
              "      <th></th>\n",
              "      <th>name</th>\n",
              "      <th>accuracy</th>\n",
              "      <th>f1 score</th>\n",
              "      <th>recall</th>\n",
              "      <th>precision</th>\n",
              "      <th>r squared</th>\n",
              "    </tr>\n",
              "  </thead>\n",
              "  <tbody>\n",
              "    <tr>\n",
              "      <th>0</th>\n",
              "      <td>Linear SVC</td>\n",
              "      <td>0.457657</td>\n",
              "      <td>0.416303</td>\n",
              "      <td>0.457657</td>\n",
              "      <td>0.453606</td>\n",
              "      <td>0.482226</td>\n",
              "    </tr>\n",
              "    <tr>\n",
              "      <th>1</th>\n",
              "      <td>Logistic Regression</td>\n",
              "      <td>0.458251</td>\n",
              "      <td>0.419864</td>\n",
              "      <td>0.458251</td>\n",
              "      <td>0.463040</td>\n",
              "      <td>0.481182</td>\n",
              "    </tr>\n",
              "    <tr>\n",
              "      <th>2</th>\n",
              "      <td>Navie Bayes</td>\n",
              "      <td>0.388405</td>\n",
              "      <td>0.384641</td>\n",
              "      <td>0.388405</td>\n",
              "      <td>0.410391</td>\n",
              "      <td>0.374138</td>\n",
              "    </tr>\n",
              "    <tr>\n",
              "      <th>3</th>\n",
              "      <td>Random forest Classifier</td>\n",
              "      <td>0.354966</td>\n",
              "      <td>0.320256</td>\n",
              "      <td>0.354966</td>\n",
              "      <td>0.348980</td>\n",
              "      <td>-0.317355</td>\n",
              "    </tr>\n",
              "  </tbody>\n",
              "</table>\n",
              "</div>"
            ],
            "text/plain": [
              "                       name  accuracy  f1 score    recall  precision  r squared\n",
              "0                Linear SVC  0.457657  0.416303  0.457657   0.453606   0.482226\n",
              "1       Logistic Regression  0.458251  0.419864  0.458251   0.463040   0.481182\n",
              "2               Navie Bayes  0.388405  0.384641  0.388405   0.410391   0.374138\n",
              "3  Random forest Classifier  0.354966  0.320256  0.354966   0.348980  -0.317355"
            ]
          },
          "metadata": {},
          "execution_count": 64
        }
      ]
    }
  ]
}